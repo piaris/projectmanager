{
  "cells": [
    {
      "cell_type": "markdown",
      "metadata": {
        "id": "view-in-github",
        "colab_type": "text"
      },
      "source": [
        "<a href=\"https://colab.research.google.com/github/piaris/projectmanager/blob/main/1_%E1%84%91%E1%85%A1%E1%84%8B%E1%85%B5%E1%84%8A%E1%85%A5%E1%86%AB%E1%84%80%E1%85%B5%E1%84%8E%E1%85%A9_03_%E1%84%8C%E1%85%A9%E1%84%80%E1%85%A5%E1%86%AB%E1%84%86%E1%85%AE%E1%86%AB%E1%84%87%E1%85%A1%E1%86%AB%E1%84%87%E1%85%A9%E1%86%A8%E1%84%86%E1%85%AE%E1%86%AB_%EC%8B%A4%EC%8A%B5.ipynb\" target=\"_parent\"><img src=\"https://colab.research.google.com/assets/colab-badge.svg\" alt=\"Open In Colab\"/></a>"
      ]
    },
    {
      "cell_type": "markdown",
      "id": "25f81d8c",
      "metadata": {
        "id": "25f81d8c"
      },
      "source": [
        "# 파이썬 기초 다지기"
      ]
    },
    {
      "cell_type": "markdown",
      "id": "3f3da3bd",
      "metadata": {
        "id": "3f3da3bd"
      },
      "source": [
        "## 3- 조건문과 반복문\n",
        "데이터와 처리의 흐름을 제어하는 조건문과 반목문"
      ]
    },
    {
      "cell_type": "markdown",
      "source": [
        "모든 프로그래밍 언어는 3개의 제어 구문 유형을 필연적으로 가지고 있다\n",
        "순차문 - 차근차근\n",
        "조건문 -\n",
        "반복문"
      ],
      "metadata": {
        "id": "BpgZiIfiehH_"
      },
      "id": "BpgZiIfiehH_"
    },
    {
      "cell_type": "markdown",
      "id": "0c52a67e",
      "metadata": {
        "id": "0c52a67e"
      },
      "source": [
        "----------------------------------"
      ]
    },
    {
      "cell_type": "markdown",
      "id": "aee8f2e8",
      "metadata": {
        "id": "aee8f2e8"
      },
      "source": [
        "## 3-1.if 조건문"
      ]
    },
    {
      "cell_type": "markdown",
      "id": "e89f3546",
      "metadata": {
        "id": "e89f3546"
      },
      "source": [
        "### 조건문: if"
      ]
    },
    {
      "cell_type": "code",
      "execution_count": 8,
      "id": "4f161d86",
      "metadata": {
        "colab": {
          "base_uri": "https://localhost:8080/"
        },
        "id": "4f161d86",
        "outputId": "dc664c48-b679-499c-a3c7-4d49cec9ac24"
      },
      "outputs": [
        {
          "output_type": "stream",
          "name": "stdout",
          "text": [
            "100보다 작군요\n"
          ]
        }
      ],
      "source": [
        "a = 99\n",
        "if a < 100:\n",
        "  print('100보다 작군요')\n"
      ]
    },
    {
      "cell_type": "code",
      "source": [
        "a = 200\n",
        "if a < 100:\n",
        "  print('100보다 작군요')\n",
        "else:\n",
        "  print('100보다 크지 않군요')"
      ],
      "metadata": {
        "colab": {
          "base_uri": "https://localhost:8080/"
        },
        "id": "lbmNz1SPfskS",
        "outputId": "ac4451d9-3d50-4da9-bc58-af29ca192cb2"
      },
      "id": "lbmNz1SPfskS",
      "execution_count": 3,
      "outputs": [
        {
          "output_type": "stream",
          "name": "stdout",
          "text": [
            "100보다 크지 않군요\n"
          ]
        }
      ]
    },
    {
      "cell_type": "code",
      "source": [
        "a = 200\n",
        "if a > 100:\n",
        "  if a > 200:\n",
        "    print('200보다 크군요')\n",
        "  else:\n",
        "    print('200보다 크지 않군요')\n",
        "else:\n",
        "  print('100보다 크지 않군요')"
      ],
      "metadata": {
        "colab": {
          "base_uri": "https://localhost:8080/"
        },
        "id": "2KH3hYxrgE-f",
        "outputId": "2b8a7fec-b150-4bcc-f42c-1e04675575e2"
      },
      "id": "2KH3hYxrgE-f",
      "execution_count": 7,
      "outputs": [
        {
          "output_type": "stream",
          "name": "stdout",
          "text": [
            "200보다 크지 않군요\n"
          ]
        }
      ]
    },
    {
      "cell_type": "code",
      "source": [
        "a = int(input('숫자를 입력하세요'))\n",
        "if a > 100:\n",
        "  print(f'{a}는 100보다 크군요!')"
      ],
      "metadata": {
        "colab": {
          "base_uri": "https://localhost:8080/"
        },
        "id": "tiQPz-QQgjDf",
        "outputId": "093f8f8c-0873-4fed-a4de-36f4c64bb30b"
      },
      "id": "tiQPz-QQgjDf",
      "execution_count": 10,
      "outputs": [
        {
          "name": "stdout",
          "output_type": "stream",
          "text": [
            "숫자를 입력하세요80\n"
          ]
        }
      ]
    },
    {
      "cell_type": "markdown",
      "id": "cb89ea65",
      "metadata": {
        "id": "cb89ea65"
      },
      "source": [
        "### 조건문: if ~ else"
      ]
    },
    {
      "cell_type": "code",
      "execution_count": 13,
      "id": "6eca2413",
      "metadata": {
        "colab": {
          "base_uri": "https://localhost:8080/"
        },
        "id": "6eca2413",
        "outputId": "bad04e2f-af2e-481a-8a79-7fc3ecdb29ba"
      },
      "outputs": [
        {
          "output_type": "stream",
          "name": "stdout",
          "text": [
            "숫자를 입력하세요210\n",
            "210는 100보다 크군요!\n"
          ]
        }
      ],
      "source": [
        "a = int(input(\"숫자를 입력하세요\"))\n",
        "if a > 100:\n",
        "  print(f'{a}는 100보다 크군요!')\n",
        "else:\n",
        "  print(f'{a}는 100보다 크지 않군요!')"
      ]
    },
    {
      "cell_type": "code",
      "source": [
        "a = int(input(\"숫자를 입력하세요\"))\n",
        "if a > 100:\n",
        "  print(f'{a}는 100보다 크군요!')\n",
        "  if a > 200:\n",
        "    print(f'{a}는 200보다 크군요!')\n",
        "  else:\n",
        "    print(f'{a}는 200보다 같거나 크지 않군요!')\n",
        "else:\n",
        "  if a == 100:\n",
        "    print(f'{a}는 100과 같군요!')\n",
        "  else:\n",
        "    print(f'{a}는 100보다 작군요!')"
      ],
      "metadata": {
        "id": "UZcjnvDShzqg"
      },
      "id": "UZcjnvDShzqg",
      "execution_count": null,
      "outputs": []
    },
    {
      "cell_type": "code",
      "source": [
        "a = int(input(\"숫자를 입력하세요\"))\n",
        "if a > 200:\n",
        "  print(f'{a}는 200보다 크군요!')\n",
        "elif a > 100:\n",
        "  print(f'{a}는 100보다 크고 200보다 작거나 같군요!')\n",
        "elif a == 100:\n",
        "  print(f'{a}는 100과 같군요!')\n",
        "else:\n",
        "  print(f'{a}는 100보다 작군요!')"
      ],
      "metadata": {
        "colab": {
          "base_uri": "https://localhost:8080/"
        },
        "id": "iHfnILYGjhEK",
        "outputId": "31daf1e1-3990-4722-c25a-82cc3127b1de"
      },
      "id": "iHfnILYGjhEK",
      "execution_count": 15,
      "outputs": [
        {
          "output_type": "stream",
          "name": "stdout",
          "text": [
            "숫자를 입력하세요99\n",
            "99는 100보다 작군요!\n"
          ]
        }
      ]
    },
    {
      "cell_type": "code",
      "source": [
        "10%2"
      ],
      "metadata": {
        "colab": {
          "base_uri": "https://localhost:8080/"
        },
        "id": "j73eSfQmk0X1",
        "outputId": "a8744c49-1130-4908-f491-7aac5355f441"
      },
      "id": "j73eSfQmk0X1",
      "execution_count": 18,
      "outputs": [
        {
          "output_type": "execute_result",
          "data": {
            "text/plain": [
              "0"
            ]
          },
          "metadata": {},
          "execution_count": 18
        }
      ]
    },
    {
      "cell_type": "code",
      "source": [
        "x = int(input('숫자를 입력해 주세요: '))\n",
        "\n",
        "if x%2 == 0:\n",
        "  print(f'{x}는 짝수입니다')\n",
        "else:\n",
        "  print(f'{x}는 홀수입니다')\n"
      ],
      "metadata": {
        "colab": {
          "base_uri": "https://localhost:8080/"
        },
        "id": "0Vkw_llMkmzF",
        "outputId": "edb68634-284d-4076-d368-2a5a42566038"
      },
      "id": "0Vkw_llMkmzF",
      "execution_count": 20,
      "outputs": [
        {
          "output_type": "stream",
          "name": "stdout",
          "text": [
            "숫자를 입력해 주세요: 5\n",
            "5는 홀수입니다\n"
          ]
        }
      ]
    },
    {
      "cell_type": "code",
      "source": [
        "# 1. 세변의 길이 입력 받기\n",
        "a = int(input('변 a의 길이: '))\n",
        "b = int(input('변 b의 길이: '))\n",
        "c = int(input('변 c의 길이: '))\n",
        "\n",
        "print('-' * 30)\n",
        "\n",
        "# 2. 직각삼각형 판별하기\n",
        "if a**2 + b**2 == c**2:\n",
        "  print(f'변의 길이가 {a, b, c} 이면 직각삼각형이다')\n",
        "else:\n",
        "  print(f'직각삼각형이 아니다')\n",
        ""
      ],
      "metadata": {
        "colab": {
          "base_uri": "https://localhost:8080/"
        },
        "id": "ja7C8tr3pnsL",
        "outputId": "3faa09ec-74c6-4e8a-d334-369eef836784"
      },
      "id": "ja7C8tr3pnsL",
      "execution_count": 28,
      "outputs": [
        {
          "output_type": "stream",
          "name": "stdout",
          "text": [
            "변 a의 길이: 3\n",
            "변 b의 길이: 4\n",
            "변 c의 길이: 5\n",
            "------------------------------\n",
            "변의 길이가 (3, 4, 5) 이면 직각삼각형이다\n"
          ]
        }
      ]
    },
    {
      "cell_type": "code",
      "source": [
        "score = int(input('성적을 입력해 주세요: '))\n",
        "print('-'*30)\n",
        "\n",
        "if score > 90:\n",
        "  grade = 'A'\n",
        "elif score > 80:\n",
        "    grade = \"B\"\n",
        "elif score > 70:\n",
        "    grade = \"C\"\n",
        "else:\n",
        "   grade = \"D\"\n",
        "\n",
        "print(f'성적 {score}은 {grade}등급입니다')"
      ],
      "metadata": {
        "colab": {
          "base_uri": "https://localhost:8080/"
        },
        "id": "IOMEBh2vtuoi",
        "outputId": "00e1e7b6-0ee9-43c5-ab9a-5e31cc399da2"
      },
      "id": "IOMEBh2vtuoi",
      "execution_count": 35,
      "outputs": [
        {
          "output_type": "stream",
          "name": "stdout",
          "text": [
            "성적을 입력해 주세요: 95\n",
            "------------------------------\n",
            "성적 95은 A등급입니다\n"
          ]
        }
      ]
    },
    {
      "cell_type": "code",
      "source": [
        "grade = int(input('성적을 입력해 주세요: '))\n",
        "print('-'*30)\n",
        "\n",
        "if grade > 90:\n",
        "  print(f'성적: {grade}는 A 등급 입니다')\n",
        "elif grade > 80:\n",
        "    print(f'성적: {grade}는 B 등급 입니다')\n",
        "elif grade > 70:\n",
        "    print(f'성적: {grade}는 C 등급 입니다')\n",
        "else:\n",
        "   print(f'성적: {grade}는 D 등급 입니다')"
      ],
      "metadata": {
        "id": "eBQu2gLKvCw3"
      },
      "id": "eBQu2gLKvCw3",
      "execution_count": null,
      "outputs": []
    },
    {
      "cell_type": "code",
      "source": [
        "44**2"
      ],
      "metadata": {
        "colab": {
          "base_uri": "https://localhost:8080/"
        },
        "id": "E4Yek8fpqwRU",
        "outputId": "24186f8d-616c-45ef-edac-08e3895432b5"
      },
      "id": "E4Yek8fpqwRU",
      "execution_count": 24,
      "outputs": [
        {
          "output_type": "execute_result",
          "data": {
            "text/plain": [
              "16"
            ]
          },
          "metadata": {},
          "execution_count": 24
        }
      ]
    },
    {
      "cell_type": "markdown",
      "id": "13b404bd",
      "metadata": {
        "id": "13b404bd"
      },
      "source": [
        "### 조건문 : 중첩if"
      ]
    },
    {
      "cell_type": "code",
      "execution_count": null,
      "id": "9575f530",
      "metadata": {
        "id": "9575f530"
      },
      "outputs": [],
      "source": [
        "\n"
      ]
    },
    {
      "cell_type": "markdown",
      "id": "349dec8b",
      "metadata": {
        "id": "349dec8b"
      },
      "source": [
        "### [실습문제] 짝수/홀수 판별하기"
      ]
    },
    {
      "cell_type": "code",
      "execution_count": null,
      "id": "de48c13d",
      "metadata": {
        "id": "de48c13d"
      },
      "outputs": [],
      "source": [
        "\n",
        "\n",
        "\n"
      ]
    },
    {
      "cell_type": "markdown",
      "id": "30919e6b",
      "metadata": {
        "id": "30919e6b"
      },
      "source": [
        "### [실습문제]\n",
        "피타고라스 정리에 의해 직각삼각형의 세 변의 길이에 대한 관계는 아래와 같습니다. 이 정리를 이용하여 세 변의 길이를 입력 받은 삼각형이 직각삼각형인지 아닌지 판별하는 프로그램을 만들어 보세요.\n"
      ]
    },
    {
      "cell_type": "code",
      "execution_count": null,
      "id": "f6e6ca29",
      "metadata": {
        "scrolled": false,
        "id": "f6e6ca29"
      },
      "outputs": [],
      "source": [
        "# 1. 세 변의 길이 입력 받기\n",
        "a = int(input('변 a의 길이: '))\n",
        "b = int(input('변 b의 길이: '))\n",
        "c = int(input('변 c의 길이: '))\n",
        "\n",
        "print('-' * 30)  # 분리 선\n",
        "\n",
        "# 2. 직각삼각형 판별하기\n",
        "\n"
      ]
    },
    {
      "cell_type": "code",
      "source": [
        "#온도가 30도 이상이면 에어컨을 켜고 온도가 15도 미만이면 내복을 입고 온도가 10도 이하면 난방기를 켠다. 나머지는 쾌적한 온도\n",
        "\n",
        "temp = int(input('현재 온도를 입력하세요: '))\n",
        "print('-'*30)\n",
        "\n",
        "if temp >30:\n",
        "  print('에어컨을 키세요')\n",
        "elif temp <= 15:\n",
        "  print('내복을 입으세요')\n",
        "elif temp <10:\n",
        "  print('난방기를 키세요')\n",
        "else:\n",
        "  print('쾌적한 온도입니다')"
      ],
      "metadata": {
        "colab": {
          "base_uri": "https://localhost:8080/"
        },
        "id": "oY0qLgVsxj3S",
        "outputId": "541cce47-00f6-439e-e86c-3370b51e60f1"
      },
      "id": "oY0qLgVsxj3S",
      "execution_count": 39,
      "outputs": [
        {
          "output_type": "stream",
          "name": "stdout",
          "text": [
            "현재 온도를 입력하세요: 5\n",
            "------------------------------\n",
            "내복을 입으세요\n"
          ]
        }
      ]
    },
    {
      "cell_type": "code",
      "source": [
        "temp = int(input(\"현재 온도를 넣으세요: \"))\n",
        "speaker = \"온도가 쾌적해요\"\n",
        "\n",
        "if temp >= 30:\n",
        "    speaker = \"에어컨을 켜세요\"\n",
        "elif temp < 15:\n",
        "    speaker = \"내복을 입으세요\"\n",
        "    if temp <= 10:\n",
        "        speaker = \"난방기를 켜세요\"\n",
        "\n",
        "print(f'온도 {temp}도 일때는 {speaker}')"
      ],
      "metadata": {
        "colab": {
          "base_uri": "https://localhost:8080/",
          "height": 144
        },
        "id": "SflUeB1t1glw",
        "outputId": "b811a960-1713-4242-ea29-6d20248a36a7"
      },
      "id": "SflUeB1t1glw",
      "execution_count": 43,
      "outputs": [
        {
          "output_type": "error",
          "ename": "SyntaxError",
          "evalue": "ignored",
          "traceback": [
            "\u001b[0;36m  File \u001b[0;32m\"<ipython-input-43-b474b41800d3>\"\u001b[0;36m, line \u001b[0;32m3\u001b[0m\n\u001b[0;31m    temp = int(input(\"현재 온도를 넣으세요: \"))\u001b[0m\n\u001b[0m           ^\u001b[0m\n\u001b[0;31mSyntaxError\u001b[0m\u001b[0;31m:\u001b[0m invalid syntax. Perhaps you forgot a comma?\n"
          ]
        }
      ]
    },
    {
      "cell_type": "code",
      "source": [
        "pip install gTTS"
      ],
      "metadata": {
        "colab": {
          "base_uri": "https://localhost:8080/"
        },
        "id": "COGhMgpd4qw3",
        "outputId": "e04ca29a-10b8-4432-f854-bed1de094cdc"
      },
      "id": "COGhMgpd4qw3",
      "execution_count": 41,
      "outputs": [
        {
          "output_type": "stream",
          "name": "stdout",
          "text": [
            "Collecting gTTS\n",
            "  Downloading gTTS-2.3.2-py3-none-any.whl (28 kB)\n",
            "Requirement already satisfied: requests<3,>=2.27 in /usr/local/lib/python3.10/dist-packages (from gTTS) (2.31.0)\n",
            "Requirement already satisfied: click<8.2,>=7.1 in /usr/local/lib/python3.10/dist-packages (from gTTS) (8.1.6)\n",
            "Requirement already satisfied: charset-normalizer<4,>=2 in /usr/local/lib/python3.10/dist-packages (from requests<3,>=2.27->gTTS) (3.2.0)\n",
            "Requirement already satisfied: idna<4,>=2.5 in /usr/local/lib/python3.10/dist-packages (from requests<3,>=2.27->gTTS) (3.4)\n",
            "Requirement already satisfied: urllib3<3,>=1.21.1 in /usr/local/lib/python3.10/dist-packages (from requests<3,>=2.27->gTTS) (2.0.4)\n",
            "Requirement already satisfied: certifi>=2017.4.17 in /usr/local/lib/python3.10/dist-packages (from requests<3,>=2.27->gTTS) (2023.7.22)\n",
            "Installing collected packages: gTTS\n",
            "Successfully installed gTTS-2.3.2\n"
          ]
        }
      ]
    },
    {
      "cell_type": "code",
      "source": [
        "from gtts import gTTS\n",
        "\n",
        "tts = gTTS(\n",
        "  text='안녕하세요? 만나서 반가워요',\n",
        "  lang='ko',\n",
        "  slow=False\n",
        ")\n",
        "\n",
        "tts.save('test.mp3')"
      ],
      "metadata": {
        "id": "9N68__Lh4iWB"
      },
      "id": "9N68__Lh4iWB",
      "execution_count": 42,
      "outputs": []
    },
    {
      "cell_type": "code",
      "source": [
        "from IPython.display import Audio\n",
        "\n",
        "kor_wav = gTTS('안녕 여러분!', lang = 'ko')\n",
        "kor_wav.save('kor.wav')\n",
        "display(Audio('kor.wav', autoplay=True))"
      ],
      "metadata": {
        "colab": {
          "base_uri": "https://localhost:8080/",
          "height": 76
        },
        "id": "L3lXXm7_-eQT",
        "outputId": "f9bde2cc-88bb-4eba-dec6-4d2c3bf383a0"
      },
      "id": "L3lXXm7_-eQT",
      "execution_count": 44,
      "outputs": [
        {
          "output_type": "display_data",
          "data": {
            "text/plain": [
              "<IPython.lib.display.Audio object>"
            ],
            "text/html": [
              "\n",
              "                <audio  controls=\"controls\" autoplay=\"autoplay\">\n",
              "                    <source src=\"data:audio/x-wav;base64,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\" type=\"audio/x-wav\" />\n",
              "                    Your browser does not support the audio element.\n",
              "                </audio>\n",
              "              "
            ]
          },
          "metadata": {}
        }
      ]
    },
    {
      "cell_type": "markdown",
      "id": "862598a5",
      "metadata": {
        "id": "862598a5"
      },
      "source": [
        "### [실습문제]\n",
        "아래 조건을 만족하는 커피 자동주문 머신을 만들어보세요.<br><br>\n",
        "[커피 자동주문 머신]<br>\n",
        "친구들과 현금 커피 자동주문 머신 앞에서\n",
        " - 아메리카노 2잔과 카페라테 2잔 카푸치노 1잔을 주문하였다.\n",
        " - 아메리카노 한잔에 2500원이고\n",
        " - 카페라테는 한잔에 3000원\n",
        " - 카푸치노는 한잔에 3000원이다.\n",
        "커피 종류와 잔 수를 결정한 후 현금 15000원을 투입하고 잔돈을 1000원 받았다."
      ]
    },
    {
      "cell_type": "code",
      "source": [
        "print('''[커피 자동주문 머신 메뉴]\n",
        "------------------------------\n",
        "-아메리카노는 2500원\n",
        "-카레라떼는 3000원\n",
        "-카푸치노는 3000원\n",
        "입니다. 원하시는 커피종류와 잔수를 입력하세요.\n",
        "------------------------------''')\n",
        "print('-'*30)\n",
        "order1 = int(input(\"아메리카노 몇잔?\"))\n",
        "order2 = int(input(\"카페라떼 몇잔?\"))\n",
        "order3 = int(input(\"카푸치노 몇잔?\"))\n",
        "\n",
        "아메리카노 = 2500\n",
        "카페라떼 = 3000\n",
        "카푸치노 = 3000\n",
        "total = order1*아메리카노 + order2*3000 + order3*3000\n",
        "\n",
        "print(f'지불한 총 금액은 {total}')\n",
        "\n",
        "pay = int(input(\"돈을 넣어주세요~\"))\n",
        "\n",
        "if total <= pay:\n",
        "  print(f'거스름 돈은 {pay - total}입니다')\n",
        "else:\n",
        "  print(f'입력한 금액이 부족합니다. {total - pay}원을 더 넣어주세요')"
      ],
      "metadata": {
        "colab": {
          "base_uri": "https://localhost:8080/"
        },
        "id": "sjhifA7TAiEg",
        "outputId": "8165fe43-7585-48e8-c471-cfdb40c6b308"
      },
      "id": "sjhifA7TAiEg",
      "execution_count": 56,
      "outputs": [
        {
          "output_type": "stream",
          "name": "stdout",
          "text": [
            "[커피 자동주문 머신 메뉴]\n",
            "------------------------------\n",
            "-아메리카노는 2500원\n",
            "-카레라떼는 3000원\n",
            "-카푸치노는 3000원\n",
            "입니다. 원하시는 커피종류와 잔수를 입력하세요.\n",
            "------------------------------\n",
            "------------------------------\n",
            "아메리카노 몇잔?1\n",
            "카페라떼 몇잔?2\n",
            "카푸치노 몇잔?1\n",
            "지불한 총 금액은 11500\n",
            "돈을 넣어주세요~12000\n",
            "거스름 돈은 500\n"
          ]
        }
      ]
    },
    {
      "cell_type": "code",
      "source": [
        "score = int(input('점수를 입력하세요: '))\n",
        "if score >= 80:\n",
        "  message = '성공'\n",
        "else:\n",
        "  message = '실패'\n",
        "\n",
        "print(f'{score}점일 때 {message}')"
      ],
      "metadata": {
        "colab": {
          "base_uri": "https://localhost:8080/"
        },
        "id": "Oraxl_CZGawF",
        "outputId": "a12d255b-3e42-4156-9bff-465769e48496"
      },
      "id": "Oraxl_CZGawF",
      "execution_count": 58,
      "outputs": [
        {
          "output_type": "stream",
          "name": "stdout",
          "text": [
            "점수를 입력하세요: 55\n",
            "55점일 때 실패\n"
          ]
        }
      ]
    },
    {
      "cell_type": "code",
      "source": [
        "score = int(input('점수를 입력하세요: '))\n",
        "message = '성공' if score >= 80 else '실패'\n",
        "print(f'{score}점일 때 {message}')"
      ],
      "metadata": {
        "colab": {
          "base_uri": "https://localhost:8080/"
        },
        "id": "Yw_XkvwnG3Iw",
        "outputId": "9fabc944-733c-4c57-e6ca-3b35962975ff"
      },
      "id": "Yw_XkvwnG3Iw",
      "execution_count": 62,
      "outputs": [
        {
          "output_type": "stream",
          "name": "stdout",
          "text": [
            "점수를 입력하세요: 65\n",
            "65점일 때 실패\n"
          ]
        }
      ]
    },
    {
      "cell_type": "code",
      "source": [
        "score = int(input('점수를 입력하세요: '))\n",
        "message = '성공' if score >= 80 else '실패'\n",
        "print(f\"{score}점일 때 {'성공' if score >= 80 else '실패'}\")"
      ],
      "metadata": {
        "colab": {
          "base_uri": "https://localhost:8080/"
        },
        "id": "6DOgN3mdHQWw",
        "outputId": "ef5e399c-10d5-47f9-c42c-de756f4ac398"
      },
      "id": "6DOgN3mdHQWw",
      "execution_count": 61,
      "outputs": [
        {
          "output_type": "stream",
          "name": "stdout",
          "text": [
            "점수를 입력하세요: 90\n",
            "90점일 때 성공\n"
          ]
        }
      ]
    },
    {
      "cell_type": "markdown",
      "id": "67412428",
      "metadata": {
        "id": "67412428"
      },
      "source": [
        "## 3-2.반복문"
      ]
    },
    {
      "cell_type": "markdown",
      "id": "44197774",
      "metadata": {
        "id": "44197774"
      },
      "source": [
        "### 반복문: for 반복문"
      ]
    },
    {
      "cell_type": "code",
      "execution_count": 63,
      "id": "9f69ecc4",
      "metadata": {
        "scrolled": true,
        "colab": {
          "base_uri": "https://localhost:8080/"
        },
        "id": "9f69ecc4",
        "outputId": "8c3480aa-d97c-4225-e1dc-6c4a70025079"
      },
      "outputs": [
        {
          "output_type": "stream",
          "name": "stdout",
          "text": [
            "0\n",
            "1\n",
            "2\n"
          ]
        }
      ],
      "source": [
        "for i in range(0,3,1):\n",
        "  print(i)\n",
        "#for i in range(0,3)\n",
        "#for i in range(3)"
      ]
    },
    {
      "cell_type": "markdown",
      "source": [
        "###2. 문자열 길이를 이용하여 반복하기"
      ],
      "metadata": {
        "id": "5urQ8A-5KDYz"
      },
      "id": "5urQ8A-5KDYz"
    },
    {
      "cell_type": "code",
      "source": [
        "사과 = 'apple'\n",
        "for i in 사과:\n",
        "  print(f'{i} 사과입니다')"
      ],
      "metadata": {
        "colab": {
          "base_uri": "https://localhost:8080/"
        },
        "id": "2d3yhzywKCXI",
        "outputId": "8642237a-fcd5-4e9f-ce92-42cd553e1f8f"
      },
      "id": "2d3yhzywKCXI",
      "execution_count": 65,
      "outputs": [
        {
          "output_type": "stream",
          "name": "stdout",
          "text": [
            "a 사과입니다\n",
            "p 사과입니다\n",
            "p 사과입니다\n",
            "l 사과입니다\n",
            "e 사과입니다\n"
          ]
        }
      ]
    },
    {
      "cell_type": "markdown",
      "source": [
        "###3. 리스트를 이용하여 반복하기"
      ],
      "metadata": {
        "id": "dUCXMGFzLNqz"
      },
      "id": "dUCXMGFzLNqz"
    },
    {
      "cell_type": "code",
      "source": [
        "fruits = ['포도', '사과', '오렌지', '바나나', '체리']\n",
        "for i in fruits:\n",
        "  print(f'내가 좋아하는 과일 {i}')"
      ],
      "metadata": {
        "colab": {
          "base_uri": "https://localhost:8080/"
        },
        "id": "0fYQG3HrLM9M",
        "outputId": "2f1f5679-f51e-44a7-e132-422bf8e5e7e0"
      },
      "id": "0fYQG3HrLM9M",
      "execution_count": 66,
      "outputs": [
        {
          "output_type": "stream",
          "name": "stdout",
          "text": [
            "내가 좋아하는 과일 포도\n",
            "내가 좋아하는 과일 사과\n",
            "내가 좋아하는 과일 오렌지\n",
            "내가 좋아하는 과일 바나나\n",
            "내가 좋아하는 과일 체리\n"
          ]
        }
      ]
    },
    {
      "cell_type": "code",
      "source": [
        "fruits = ['포도', '사과', '오렌지', '바나나', '체리']\n",
        "print('내가 좋아하는 과일은')\n",
        "for i in fruits:\n",
        "  print(i, end= ' ')"
      ],
      "metadata": {
        "colab": {
          "base_uri": "https://localhost:8080/"
        },
        "id": "erF5JLw2L_zj",
        "outputId": "9aeee3e4-0e7f-4cf2-c33e-e94d1738f619"
      },
      "id": "erF5JLw2L_zj",
      "execution_count": 67,
      "outputs": [
        {
          "output_type": "stream",
          "name": "stdout",
          "text": [
            "내가 좋아하는 과일은\n",
            "포도 사과 오렌지 바나나 체리 "
          ]
        }
      ]
    },
    {
      "cell_type": "markdown",
      "id": "8288e636",
      "metadata": {
        "id": "8288e636"
      },
      "source": [
        "### [실습문제]\n",
        "키보드로 양의 정수(n)을 입력 받아 1~n까지의 합을 구하는 프로그램을 만들어 보세요."
      ]
    },
    {
      "cell_type": "code",
      "execution_count": 85,
      "id": "d6774150",
      "metadata": {
        "colab": {
          "base_uri": "https://localhost:8080/"
        },
        "id": "d6774150",
        "outputId": "5b174d7d-9161-4208-e58f-4258fee8aeac"
      },
      "outputs": [
        {
          "output_type": "stream",
          "name": "stdout",
          "text": [
            "숫자를 입력하세요: 8\n",
            "36\n"
          ]
        }
      ],
      "source": [
        "# 1. 숫자 N을 입력하세요.\n",
        "number = int(input('숫자를 입력하세요: '))\n",
        "sum = 0\n",
        "for i in range(1, number+1):\n",
        "  sum = i + sum\n",
        "print(sum)\n",
        "\n",
        "\n",
        "# 2. 1~N까지 합계를 구하세요.\n",
        "\n"
      ]
    },
    {
      "cell_type": "markdown",
      "id": "aae06acb",
      "metadata": {
        "id": "aae06acb"
      },
      "source": [
        "### [실습문제]\n",
        "키보드로 양의 정수(n)을 입력 받아 1~n까지의 합을 구할 때 짝수를 제외하고 합을 구하는 프로그램을 만들어 보세요."
      ]
    },
    {
      "cell_type": "code",
      "execution_count": null,
      "id": "c87285cf",
      "metadata": {
        "id": "c87285cf"
      },
      "outputs": [],
      "source": [
        "number = int(input('숫자를 입력하세요: '))\n",
        "sum = 0\n",
        "\n",
        "for i in range(2, number+1, 2):\n",
        "  sum = i + sum\n",
        "  print(i, '')\n",
        "print(sum)\n"
      ]
    },
    {
      "cell_type": "code",
      "source": [
        "n = int(input('숫자를 입력하세요: '))\n",
        "hap = 0\n",
        "for i in range(1,n+1,1):\n",
        "    if i%2 == 0 :  # 짝수\n",
        "        continue   # skip=pass 의미\n",
        "    else:\n",
        "        hap = hap + i\n",
        "print(f'1~{n}까지 합은 {hap}입니다.')"
      ],
      "metadata": {
        "id": "C00sgv5BQoOH"
      },
      "id": "C00sgv5BQoOH",
      "execution_count": null,
      "outputs": []
    },
    {
      "cell_type": "markdown",
      "id": "ac62e6f7",
      "metadata": {
        "id": "ac62e6f7"
      },
      "source": [
        "### 반복문: while 반복문"
      ]
    },
    {
      "cell_type": "code",
      "source": [
        "num1, num2 = 1, 1\n",
        "\n",
        "while num1 > 100 :\n",
        "  num1 = int(input(\"더할 첫 번째 숫자: \"))\n",
        "  num2 = int(input(\"더할 두 번째 숫자: \"))\n",
        "  print(f'{num1} + {num2} = {num1 + num2}')\n",
        "\n",
        "print('')"
      ],
      "metadata": {
        "id": "pXdETq5xWhdV"
      },
      "id": "pXdETq5xWhdV",
      "execution_count": 94,
      "outputs": []
    },
    {
      "cell_type": "code",
      "execution_count": null,
      "id": "f2fb3ce9",
      "metadata": {
        "id": "f2fb3ce9"
      },
      "outputs": [],
      "source": [
        "num1, num2 = 0, 0\n",
        "\n",
        "while True:\n",
        "    num1 = int(input(\"더할 첫 번째 숫자: \"))\n",
        "    if num1 == 0:\n",
        "        break #while에는 조건문, break가 무조건 있어야함\n",
        "\n",
        "    num2 = int(input(\"더할 두 번째 숫자: \"))\n",
        "\n",
        "    print(f'{num1} + {num2} = {num1 + num2}')\n",
        "\n",
        "print(\"0을 입력해서 반복문을 탈출했습니다.\")"
      ]
    },
    {
      "cell_type": "markdown",
      "id": "02a797a4",
      "metadata": {
        "id": "02a797a4"
      },
      "source": [
        "### [실습문제] 도둑잡기 게임 만들기\n",
        "경찰에 쫓기던 범인이 3개의 방 중에 한 곳에 숨어버렸습니다. 범인은 방문을 열 때마다 무작위로 3개의 방 중 하나의 방으로 이동합니다. 3개의 방 중 하나의 방을 선택했을 때 범인이 있다면 100점, 없을 때 -10점을 부여하고 범인을 잡으면 게임을 종료하는 프로그램을 만들어 보세요."
      ]
    },
    {
      "cell_type": "code",
      "execution_count": 95,
      "id": "e08b9dc4",
      "metadata": {
        "colab": {
          "base_uri": "https://localhost:8080/"
        },
        "id": "e08b9dc4",
        "outputId": "43fdf775-ae0d-42a6-af2d-f7413ca336bd"
      },
      "outputs": [
        {
          "output_type": "stream",
          "name": "stdout",
          "text": [
            "도둑이 숨은 방을 선택하세요(1~3): 2\n",
            "그 방에는 도둑이 없습니다\n",
            "도둑이 숨은 방을 선택하세요(1~3): 1\n",
            "찾았다! 도둑이 있는 방입니다\n",
            "도둑이 있는 방은 1번 방입니다. 점수는 90점입니다\n"
          ]
        }
      ],
      "source": [
        "import random\n",
        "score = 0\n",
        "\n",
        "while True:\n",
        "  room = random.randint(1,3) #1-3 중 임의의 수 선택\n",
        "  n = int(input('도둑이 숨은 방을 선택하세요(1~3): '))\n",
        "  if n == room :\n",
        "    print('찾았다! 도둑이 있는 방입니다')\n",
        "    score += 100\n",
        "    break\n",
        "  else:\n",
        "    print('그 방에는 도둑이 없습니다')\n",
        "    score -= 10\n",
        "print('게임이 종료됩니다')\n",
        "print(f'도둑이 있는 방은 {room}번 방입니다. 점수는 {score}점입니다')\n",
        "\n",
        "#몇번 시도할지 모를때  while문 사용"
      ]
    },
    {
      "cell_type": "markdown",
      "id": "ecdb476f",
      "metadata": {
        "id": "ecdb476f"
      },
      "source": [
        "### [실습문제] 커피 자동주문 프로그램 업그레이드\n",
        "앞에서 만들어 본 커피 자동주문 머신 프로그램을 while문을 이용하여 돈을 모두 지불할 때까지 돈을 입력 받도록 프로그램 기능 수정하기"
      ]
    },
    {
      "cell_type": "code",
      "execution_count": 99,
      "id": "2ce8fbfc",
      "metadata": {
        "scrolled": true,
        "colab": {
          "base_uri": "https://localhost:8080/"
        },
        "id": "2ce8fbfc",
        "outputId": "d6b4518e-6c91-43ab-bd9b-1e11ce02c002"
      },
      "outputs": [
        {
          "output_type": "stream",
          "name": "stdout",
          "text": [
            "[커피 자동주문 머신 메뉴]\n",
            "------------------------------\n",
            "-아메리카노는 2500원\n",
            "-카레라떼는 3000원\n",
            "-카푸치노는 3000원\n",
            "입니다. 원하시는 커피종류와 잔수를 입력하세요.\n",
            "------------------------------\n",
            "아메리카노 몇잔?1\n",
            "카페라떼 몇잔?2\n",
            "카푸치노 몇잔?1\n",
            "지불한 총 금액은 11500원 입니다\n",
            "------------------------------\n",
            "[지불할 금액: 11500] : 돈을 넣어주세요~12000\n",
            "거스름돈은 500입니다\n",
            "------------------------------\n",
            "커피 맛있게 드세요\n"
          ]
        }
      ],
      "source": [
        "menu = '''[커피 자동주문 머신 메뉴]\n",
        "------------------------------\n",
        "-아메리카노는 2500원\n",
        "-카레라떼는 3000원\n",
        "-카푸치노는 3000원\n",
        "입니다. 원하시는 커피종류와 잔수를 입력하세요.\n",
        "------------------------------'''\n",
        "print(menu)\n",
        "\n",
        "order1 = int(input(\"아메리카노 몇잔?\"))\n",
        "order2 = int(input(\"카페라떼 몇잔?\"))\n",
        "order3 = int(input(\"카푸치노 몇잔?\"))\n",
        "\n",
        "total = order1*아메리카노 + order2*3000 + order3*3000\n",
        "\n",
        "print(f'지불한 총 금액은 {total}원 입니다')\n",
        "\n",
        "print('-'*30)\n",
        "\n",
        "while True:\n",
        "  pay = int(input(f\"[지불할 금액: {total}] : 돈을 넣어주세요~\"))\n",
        "  change = pay - total\n",
        "  if change < 0:\n",
        "    print(f'입력한 금액이 부족합니다, {change}원을 더 넣어주세요')\n",
        "    total -= pay\n",
        "  else:\n",
        "    print(f'거스름돈은 {change}입니다')\n",
        "    break\n",
        "\n",
        "print('-'*30)\n",
        "print('커피 맛있게 드세요')\n",
        "\n"
      ]
    },
    {
      "cell_type": "code",
      "execution_count": null,
      "id": "1ac5675e",
      "metadata": {
        "scrolled": true,
        "id": "1ac5675e"
      },
      "outputs": [],
      "source": [
        "\n"
      ]
    },
    {
      "cell_type": "markdown",
      "id": "0d03701c",
      "metadata": {
        "id": "0d03701c"
      },
      "source": [
        "### [실습문제] 공이 튕긴 횟수 구하기\n",
        "공을 일정 높이에서 떨어뜨리면, 원래 높이의 1/2만큼 튀어 오릅니다. 이를 반복하다가 높이가 0.00001m보다 낮으면 튀어 오르지 않습니다. while문을 이용하여 공이 튀어 오르는 총 횟수를 구하는 프로그램을 만들어 보세요."
      ]
    },
    {
      "cell_type": "markdown",
      "id": "af0e48ab",
      "metadata": {
        "id": "af0e48ab"
      },
      "source": [
        "## 3-3.난수(Random Variable)"
      ]
    },
    {
      "cell_type": "markdown",
      "id": "e34c55ca",
      "metadata": {
        "id": "e34c55ca"
      },
      "source": [
        "### [실습문제] 임의의 두 수 합 구하기\n",
        "1부터 10까지의 범위를 갖는 임의의 두 정수 a, b를 더하여 결과 출력하기"
      ]
    },
    {
      "cell_type": "code",
      "execution_count": null,
      "id": "3c007936",
      "metadata": {
        "id": "3c007936"
      },
      "outputs": [],
      "source": []
    },
    {
      "cell_type": "markdown",
      "id": "357e1bdd",
      "metadata": {
        "id": "357e1bdd"
      },
      "source": [
        "### [실습문제]\n",
        "주사위를 100번 던져서 나오는 숫자를 각 숫자별로 카운트하고 가장 많이 나온 숫자와 그 숫자의 횟수를 출력하시오."
      ]
    },
    {
      "cell_type": "code",
      "execution_count": null,
      "id": "782da2b4",
      "metadata": {
        "id": "782da2b4"
      },
      "outputs": [],
      "source": []
    },
    {
      "cell_type": "markdown",
      "id": "45e329e4",
      "metadata": {
        "id": "45e329e4"
      },
      "source": [
        "------------------------"
      ]
    },
    {
      "cell_type": "markdown",
      "id": "66025633",
      "metadata": {
        "id": "66025633"
      },
      "source": [
        "끝"
      ]
    }
  ],
  "metadata": {
    "kernelspec": {
      "display_name": "Python 3 (ipykernel)",
      "language": "python",
      "name": "python3"
    },
    "language_info": {
      "codemirror_mode": {
        "name": "ipython",
        "version": 3
      },
      "file_extension": ".py",
      "mimetype": "text/x-python",
      "name": "python",
      "nbconvert_exporter": "python",
      "pygments_lexer": "ipython3",
      "version": "3.10.9"
    },
    "vscode": {
      "interpreter": {
        "hash": "b41e41bff03a930185ac2cbea60ce521f7c8c2f5401ceb5c30214081f77ab4f5"
      }
    },
    "colab": {
      "provenance": [],
      "include_colab_link": true
    }
  },
  "nbformat": 4,
  "nbformat_minor": 5
}