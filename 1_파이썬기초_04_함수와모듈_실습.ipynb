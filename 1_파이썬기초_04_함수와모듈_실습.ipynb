{
  "cells": [
    {
      "cell_type": "markdown",
      "metadata": {
        "id": "view-in-github",
        "colab_type": "text"
      },
      "source": [
        "<a href=\"https://colab.research.google.com/github/piaris/projectmanager/blob/main/1_%E1%84%91%E1%85%A1%E1%84%8B%E1%85%B5%E1%84%8A%E1%85%A5%E1%86%AB%E1%84%80%E1%85%B5%E1%84%8E%E1%85%A9_04_%E1%84%92%E1%85%A1%E1%86%B7%E1%84%89%E1%85%AE%E1%84%8B%E1%85%AA%E1%84%86%E1%85%A9%E1%84%83%E1%85%B2%E1%86%AF_%EC%8B%A4%EC%8A%B5.ipynb\" target=\"_parent\"><img src=\"https://colab.research.google.com/assets/colab-badge.svg\" alt=\"Open In Colab\"/></a>"
      ]
    },
    {
      "cell_type": "markdown",
      "id": "25f81d8c",
      "metadata": {
        "id": "25f81d8c"
      },
      "source": [
        "# 파이썬 기초 다지기"
      ]
    },
    {
      "cell_type": "code",
      "source": [
        "numlist = [] #빈리스트\n",
        "for num in range(1,6) :\n",
        "  numlist.append(num)\n",
        "numlist"
      ],
      "metadata": {
        "colab": {
          "base_uri": "https://localhost:8080/"
        },
        "id": "2lmwRDwDCTfd",
        "outputId": "f78a5d6a-d9c9-4efd-8af3-a2f71a7142fc"
      },
      "id": "2lmwRDwDCTfd",
      "execution_count": 1,
      "outputs": [
        {
          "output_type": "execute_result",
          "data": {
            "text/plain": [
              "[1, 2, 3, 4, 5]"
            ]
          },
          "metadata": {},
          "execution_count": 1
        }
      ]
    },
    {
      "cell_type": "markdown",
      "id": "0c52a67e",
      "metadata": {
        "id": "0c52a67e"
      },
      "source": [
        "----------------------------------"
      ]
    },
    {
      "cell_type": "markdown",
      "source": [
        "###리스트 컴프리헨션(Comprehension)"
      ],
      "metadata": {
        "id": "BDJk-v-DCnNy"
      },
      "id": "BDJk-v-DCnNy"
    },
    {
      "cell_type": "code",
      "source": [
        "numlist = [num for num in range(1,6)]\n",
        "numlist"
      ],
      "metadata": {
        "colab": {
          "base_uri": "https://localhost:8080/"
        },
        "id": "Is-i6V2pCd6l",
        "outputId": "00f0ef5c-2f8b-464f-fba4-221f93451a57"
      },
      "id": "Is-i6V2pCd6l",
      "execution_count": 2,
      "outputs": [
        {
          "output_type": "execute_result",
          "data": {
            "text/plain": [
              "[1, 2, 3, 4, 5]"
            ]
          },
          "metadata": {},
          "execution_count": 2
        }
      ]
    },
    {
      "cell_type": "code",
      "source": [
        "#1~10 중 3의 배수만 리스트로 만들기\n",
        "a = [i for i in range(1,10) if i%3==0]\n",
        "print(a)"
      ],
      "metadata": {
        "colab": {
          "base_uri": "https://localhost:8080/"
        },
        "id": "bCnZSGeUD4-l",
        "outputId": "89a14036-98d5-4c86-8b04-970852156b5b"
      },
      "id": "bCnZSGeUD4-l",
      "execution_count": 5,
      "outputs": [
        {
          "output_type": "stream",
          "name": "stdout",
          "text": [
            "[3, 6, 9]\n"
          ]
        }
      ]
    },
    {
      "cell_type": "code",
      "source": [
        "#튜플 리스트 만들기\n",
        "rows = range(1,4)\n",
        "cols = range(1,3)\n"
      ],
      "metadata": {
        "id": "fDD5iZAGGKDX"
      },
      "id": "fDD5iZAGGKDX",
      "execution_count": null,
      "outputs": []
    },
    {
      "cell_type": "code",
      "source": [
        "color = ['red', 'green', 'black']\n",
        "a = [c*3 for c in color if c=='red']\n",
        "print(a)"
      ],
      "metadata": {
        "colab": {
          "base_uri": "https://localhost:8080/"
        },
        "id": "zljD4LrHELWS",
        "outputId": "43603c84-dddf-4e28-9c8c-05d7f4d25ed1"
      },
      "id": "zljD4LrHELWS",
      "execution_count": 7,
      "outputs": [
        {
          "output_type": "stream",
          "name": "stdout",
          "text": [
            "['redredred']\n"
          ]
        }
      ]
    },
    {
      "cell_type": "code",
      "source": [
        "a = [str(i) if i%3==0 else i for i in range(1, 11)]\n",
        "print(a)"
      ],
      "metadata": {
        "colab": {
          "base_uri": "https://localhost:8080/"
        },
        "id": "O1qNCzKwExDt",
        "outputId": "bee62088-c97a-45e5-ae0d-04e401c57dc3"
      },
      "id": "O1qNCzKwExDt",
      "execution_count": 11,
      "outputs": [
        {
          "output_type": "stream",
          "name": "stdout",
          "text": [
            "[1, 2, '3', 4, 5, '6', 7, 8, '9', 10]\n"
          ]
        }
      ]
    },
    {
      "cell_type": "markdown",
      "source": [
        "### zip()"
      ],
      "metadata": {
        "id": "c00ZdDxCIE7n"
      },
      "id": "c00ZdDxCIE7n"
    },
    {
      "cell_type": "code",
      "source": [
        "foods = ['떡복이', '짜장면', '라면', '피자', '치킨', '삼겹살']\n",
        "sides = ['오뎅', '단무지', '김치', '피클', '맥주', '마늘' ]\n",
        "for (food, side) in zip(foods, sides):\n",
        "  print(food, '-->', side)\n",
        "\n",
        "dict(zip(foods, sides))"
      ],
      "metadata": {
        "colab": {
          "base_uri": "https://localhost:8080/"
        },
        "id": "EiqqZvx6Hn3V",
        "outputId": "7e342537-c2ab-4fe7-bf2a-a89aa8a4869b"
      },
      "id": "EiqqZvx6Hn3V",
      "execution_count": 14,
      "outputs": [
        {
          "output_type": "stream",
          "name": "stdout",
          "text": [
            "떡복이 --> 오뎅\n",
            "짜장면 --> 단무지\n",
            "라면 --> 김치\n",
            "피자 --> 피클\n",
            "치킨 --> 맥주\n",
            "삼겹살 --> 마늘\n"
          ]
        },
        {
          "output_type": "execute_result",
          "data": {
            "text/plain": [
              "{'떡복이': '오뎅', '짜장면': '단무지', '라면': '김치', '피자': '피클', '치킨': '맥주', '삼겹살': '마늘'}"
            ]
          },
          "metadata": {},
          "execution_count": 14
        }
      ]
    },
    {
      "cell_type": "code",
      "source": [
        "myloves ={'떡복이': '오뎅', '짜장면': '단무지', '라면': '김치',\n",
        " '피자': '피클', '치킨': '맥주', '삼겹살': '마늘'}\n",
        "\n",
        "print(myloves.keys())\n",
        "print(myloves.values())\n",
        "print(myloves.items())"
      ],
      "metadata": {
        "colab": {
          "base_uri": "https://localhost:8080/"
        },
        "id": "bpo4KNU2I0B7",
        "outputId": "adab2fee-9526-4437-df69-8511760a56fd"
      },
      "id": "bpo4KNU2I0B7",
      "execution_count": 17,
      "outputs": [
        {
          "output_type": "stream",
          "name": "stdout",
          "text": [
            "dict_keys(['떡복이', '짜장면', '라면', '피자', '치킨', '삼겹살'])\n",
            "dict_values(['오뎅', '단무지', '김치', '피클', '맥주', '마늘'])\n",
            "dict_items([('떡복이', '오뎅'), ('짜장면', '단무지'), ('라면', '김치'), ('피자', '피클'), ('치킨', '맥주'), ('삼겹살', '마늘')])\n"
          ]
        }
      ]
    },
    {
      "cell_type": "markdown",
      "id": "3f3da3bd",
      "metadata": {
        "id": "3f3da3bd"
      },
      "source": [
        "## 4- 함수와 모듈\n",
        "데이터 추상화하고 구조화하기"
      ]
    },
    {
      "cell_type": "markdown",
      "id": "aee8f2e8",
      "metadata": {
        "id": "aee8f2e8"
      },
      "source": [
        "## 4-1.함수 < 모듈 < 패키기"
      ]
    },
    {
      "cell_type": "markdown",
      "id": "e89f3546",
      "metadata": {
        "id": "e89f3546"
      },
      "source": [
        "### 함수 정의하기"
      ]
    },
    {
      "cell_type": "code",
      "execution_count": null,
      "id": "4f161d86",
      "metadata": {
        "id": "4f161d86"
      },
      "outputs": [],
      "source": [
        "\n"
      ]
    },
    {
      "cell_type": "markdown",
      "id": "cb89ea65",
      "metadata": {
        "id": "cb89ea65"
      },
      "source": [
        "### 함수의 구조\n",
        "매개변수와 리턴값에 따른 함수의 유형 예"
      ]
    },
    {
      "cell_type": "markdown",
      "id": "8acceb64",
      "metadata": {
        "id": "8acceb64"
      },
      "source": [
        "- 매개변수(X), 리턴값(X)"
      ]
    },
    {
      "cell_type": "code",
      "execution_count": null,
      "id": "57a55c92",
      "metadata": {
        "id": "57a55c92"
      },
      "outputs": [],
      "source": [
        "def func():\n",
        "    print('안녕하세요!')\n",
        "\n",
        "print( func() )"
      ]
    },
    {
      "cell_type": "markdown",
      "id": "aba4c5e6",
      "metadata": {
        "id": "aba4c5e6"
      },
      "source": [
        "- 매개변수(X), 리턴값(O)"
      ]
    },
    {
      "cell_type": "code",
      "execution_count": null,
      "id": "aa699b58",
      "metadata": {
        "id": "aa699b58"
      },
      "outputs": [],
      "source": [
        "def func():\n",
        "    print('안녕하세요!')\n",
        "    return '처리완료!'\n",
        "\n",
        "print( func() )"
      ]
    },
    {
      "cell_type": "markdown",
      "id": "21f24a11",
      "metadata": {
        "id": "21f24a11"
      },
      "source": [
        "- 매개변수(O), 리턴값(X)"
      ]
    },
    {
      "cell_type": "code",
      "execution_count": null,
      "id": "f1c1db85",
      "metadata": {
        "id": "f1c1db85"
      },
      "outputs": [],
      "source": [
        "def func(a, b):\n",
        "    print('덧셈: %d + %d = %d' % (a, b, a+b))\n",
        "\n",
        "print( func(5, 7) )"
      ]
    },
    {
      "cell_type": "markdown",
      "id": "c80d6c02",
      "metadata": {
        "id": "c80d6c02"
      },
      "source": [
        "- 매개변수(O), 리턴값(O)"
      ]
    },
    {
      "cell_type": "code",
      "execution_count": null,
      "id": "d6d46e65",
      "metadata": {
        "id": "d6d46e65"
      },
      "outputs": [],
      "source": [
        "def func(a, b):\n",
        "    print('덧셈: %d + %d = %d' % (a, b, a+b))\n",
        "    return a+b\n",
        "\n",
        "print( func(5, 7) )"
      ]
    },
    {
      "cell_type": "markdown",
      "id": "fbe6e1c6",
      "metadata": {
        "id": "fbe6e1c6"
      },
      "source": [
        "### [실습문제] 암스트롱수 구하기\n",
        "다음 조건을 참고하여 암스트롱수를 구하는 함수를 만들어 출력하는 프로그램을 만들어 보세요.\n",
        "- **암스트롱수** : 세 자리의 정수 중에서 각 자리의 수를 세 제곱한 수의 합과 자신이 같은 수"
      ]
    },
    {
      "cell_type": "code",
      "execution_count": null,
      "id": "3c387d60",
      "metadata": {
        "id": "3c387d60"
      },
      "outputs": [],
      "source": [
        "def is_arm(N):  # 암스트롱 수 찾는 함수\n",
        "    n = str(N)    # 정수를 문자열로 변환\n",
        "    a = int(n[0]) # 100의 자리수\n",
        "    b = int(n[1]) # 10의 자리수\n",
        "    c = int(n[2]) # 1의 자리수\n",
        "    if N == (a**3 + b**3 + c**3):  # 암스트롱수의 조건\n",
        "        return True\n",
        "    else:\n",
        "        return False\n",
        "\n",
        "for i in range(100, 1000):\n",
        "    if is_arm(i):\n",
        "        print(f'[{i}] is armstrong number!')\n"
      ]
    },
    {
      "cell_type": "markdown",
      "id": "a78bd48d",
      "metadata": {
        "id": "a78bd48d"
      },
      "source": [
        "### [실습문제]\n",
        "앞에서 만든 커피 자동주문 머신 프로그램을 함수를 이용하여 만들어 보세요."
      ]
    },
    {
      "cell_type": "code",
      "execution_count": null,
      "id": "ea29d25d",
      "metadata": {
        "id": "ea29d25d"
      },
      "outputs": [],
      "source": [
        "menu = '''[커피 자동주문 머신 메뉴]\n",
        "------------------------------\n",
        "-아메리카노는 2500원\n",
        "-카레라떼는 3000원\n",
        "-카푸치노는 3000원\n",
        "입니다. 원하시는 커피종류와 잔수를 입력하세요.\n",
        "------------------------------'''\n",
        "print(menu)\n",
        "coffee1 = int(input(\"아메리카노 몇잔?: \"))\n",
        "coffee2 = int(input(\"카페라떼 몇잔?: \"))\n",
        "coffee3 = int(input(\"카푸치노 몇잔?: \"))\n",
        "\n"
      ]
    },
    {
      "cell_type": "markdown",
      "id": "45e329e4",
      "metadata": {
        "id": "45e329e4"
      },
      "source": [
        "------------------------"
      ]
    },
    {
      "cell_type": "markdown",
      "id": "66025633",
      "metadata": {
        "id": "66025633"
      },
      "source": [
        "끝"
      ]
    }
  ],
  "metadata": {
    "kernelspec": {
      "display_name": "Python 3 (ipykernel)",
      "language": "python",
      "name": "python3"
    },
    "language_info": {
      "codemirror_mode": {
        "name": "ipython",
        "version": 3
      },
      "file_extension": ".py",
      "mimetype": "text/x-python",
      "name": "python",
      "nbconvert_exporter": "python",
      "pygments_lexer": "ipython3",
      "version": "3.10.9"
    },
    "vscode": {
      "interpreter": {
        "hash": "b41e41bff03a930185ac2cbea60ce521f7c8c2f5401ceb5c30214081f77ab4f5"
      }
    },
    "colab": {
      "provenance": [],
      "include_colab_link": true
    }
  },
  "nbformat": 4,
  "nbformat_minor": 5
}