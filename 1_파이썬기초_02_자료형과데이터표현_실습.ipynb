{
  "cells": [
    {
      "cell_type": "markdown",
      "metadata": {
        "id": "view-in-github",
        "colab_type": "text"
      },
      "source": [
        "<a href=\"https://colab.research.google.com/github/piaris/projectmanager/blob/main/1_%E1%84%91%E1%85%A1%E1%84%8B%E1%85%B5%E1%84%8A%E1%85%A5%E1%86%AB%E1%84%80%E1%85%B5%E1%84%8E%E1%85%A9_02_%E1%84%8C%E1%85%A1%E1%84%85%E1%85%AD%E1%84%92%E1%85%A7%E1%86%BC%E1%84%80%E1%85%AA%E1%84%83%E1%85%A6%E1%84%8B%E1%85%B5%E1%84%90%E1%85%A5%ED%91%9C%ED%98%84_%EC%8B%A4%EC%8A%B5.ipynb\" target=\"_parent\"><img src=\"https://colab.research.google.com/assets/colab-badge.svg\" alt=\"Open In Colab\"/></a>"
      ]
    },
    {
      "cell_type": "markdown",
      "id": "8daf7079",
      "metadata": {
        "id": "8daf7079"
      },
      "source": [
        "# 파이썬 기초 다지기"
      ]
    },
    {
      "cell_type": "markdown",
      "id": "3f3da3bd",
      "metadata": {
        "id": "3f3da3bd"
      },
      "source": [
        "## 2 - 파이썬 자료형과 데이터 표현\n",
        "파이썬의 다양한 데이터 타입과 다양한 연산자, 문자열"
      ]
    },
    {
      "cell_type": "markdown",
      "id": "0c52a67e",
      "metadata": {
        "id": "0c52a67e"
      },
      "source": [
        "----------------------------------"
      ]
    },
    {
      "cell_type": "markdown",
      "id": "1ff36611",
      "metadata": {
        "id": "1ff36611"
      },
      "source": [
        "## 2-1.파이썬 자료형(Data Type)"
      ]
    },
    {
      "cell_type": "markdown",
      "id": "278fb39c",
      "metadata": {
        "id": "278fb39c"
      },
      "source": [
        "### 수학 연산하기"
      ]
    },
    {
      "cell_type": "code",
      "execution_count": null,
      "id": "7ea3146f",
      "metadata": {
        "id": "7ea3146f"
      },
      "outputs": [],
      "source": [
        "# 변수를 이용한 계산\n",
        "a = 10\n",
        "b = 20\n",
        "c = 5\n"
      ]
    },
    {
      "cell_type": "code",
      "source": [
        "print(a + b)\n",
        "print(a - b)\n",
        "print(a * b)\n",
        "print(a / c)\n",
        "print(a % c)\n",
        "print(a* a* a)\n",
        "print(a**3)"
      ],
      "metadata": {
        "colab": {
          "base_uri": "https://localhost:8080/"
        },
        "id": "CRQXLF5tGEZf",
        "outputId": "9e8c66f8-f5de-4229-a639-f4641bfbe79b"
      },
      "id": "CRQXLF5tGEZf",
      "execution_count": null,
      "outputs": [
        {
          "output_type": "stream",
          "name": "stdout",
          "text": [
            "30\n",
            "-10\n",
            "200\n",
            "2.0\n",
            "0\n",
            "1000\n",
            "1000\n"
          ]
        }
      ]
    },
    {
      "cell_type": "markdown",
      "id": "105f773c",
      "metadata": {
        "id": "105f773c"
      },
      "source": [
        "### [실습문제]\n",
        "- 문제1: 10 + 3 x 4 결과 출력\n",
        "- 문제2: 아이폰 15대를 가지고 있다. 아이폰의 가격이 130만원 일 때 총 금액은?\n",
        "- 문제3: 주어진 자연수가 홀수인지 짝수인지 판별하는 방법은?\n",
        "- 문제4: 2x2x2x5x5x5x5x3x3x3x3을 제곱형태로 나타낸 후 그 결과 출력하기"
      ]
    },
    {
      "cell_type": "code",
      "execution_count": null,
      "id": "7a853d89",
      "metadata": {
        "colab": {
          "base_uri": "https://localhost:8080/"
        },
        "id": "7a853d89",
        "outputId": "a7252c32-f55c-4ec1-ed8f-369885dc16c2"
      },
      "outputs": [
        {
          "output_type": "stream",
          "name": "stdout",
          "text": [
            "10 + 3 * 4 = 22\n"
          ]
        }
      ],
      "source": [
        "# - 문제1: 10 + 3 x 4 결과 출력\n",
        "print('10 + 3 * 4 =', 10 + 3 * 4)"
      ]
    },
    {
      "cell_type": "code",
      "source": [
        "# - 문제2: 아이폰 15대를 가지고 있다. 아이폰의 가격이 130만원 일 때 총 금액은?\n",
        "iphone = 15\n",
        "price = 130\n",
        "print('아이폰 총 금액은', iphone*price, '만원이다')\n",
        "print('%d x %d = %d' % (iphone, price, iphone*price))\n",
        "print(f'{iphone} x {price} = {iphone * price}') #문자열 자동 입력키\n",
        "print(f'{iphone:>10} x {price} = {iphone * price}') # :>오른쪽 정렬키 / ^가운데 정렬키"
      ],
      "metadata": {
        "colab": {
          "base_uri": "https://localhost:8080/"
        },
        "id": "cfkNVXBzGbdJ",
        "outputId": "d3917554-9817-464e-d096-35b326bf74c6"
      },
      "id": "cfkNVXBzGbdJ",
      "execution_count": null,
      "outputs": [
        {
          "output_type": "stream",
          "name": "stdout",
          "text": [
            "아이폰 총 금액은 1950 만원이다\n",
            "15 x 130 = 1950\n",
            "15 x 130 = 1950\n",
            "        15 x 130 = 1950\n"
          ]
        }
      ]
    },
    {
      "cell_type": "code",
      "source": [
        "#문제3: 주어진 자연수가 홀수인지 짝수인지 판별하는 방법은?\n",
        "import random\n",
        "number = random.randint(1,100)\n",
        "if number%2 == 0: #나머지 %\n",
        "  print(number, '짝수')\n",
        "else:\n",
        "  print(number, '홀수')"
      ],
      "metadata": {
        "colab": {
          "base_uri": "https://localhost:8080/"
        },
        "id": "ErV4riHgGgZ2",
        "outputId": "79a73bb3-cd4c-4579-b496-c4fc097b243d"
      },
      "id": "ErV4riHgGgZ2",
      "execution_count": null,
      "outputs": [
        {
          "output_type": "stream",
          "name": "stdout",
          "text": [
            "97 홀수\n"
          ]
        }
      ]
    },
    {
      "cell_type": "code",
      "source": [
        "#문제4: 2x2x2x5x5x5x5x3x3x3x3을 제곱형태로 나타낸 후 그 결과 출력하기\n",
        "a = 2\n",
        "b = 5\n",
        "c = 3\n",
        "print(a**3*b**4*c**4)"
      ],
      "metadata": {
        "colab": {
          "base_uri": "https://localhost:8080/"
        },
        "id": "m34jgEQwG38O",
        "outputId": "574dcb0a-3d20-4860-f465-eeeda61b7d5a"
      },
      "id": "m34jgEQwG38O",
      "execution_count": null,
      "outputs": [
        {
          "output_type": "execute_result",
          "data": {
            "text/plain": [
              "405000"
            ]
          },
          "metadata": {},
          "execution_count": 14
        }
      ]
    },
    {
      "cell_type": "markdown",
      "id": "65487a5c",
      "metadata": {
        "id": "65487a5c"
      },
      "source": [
        "### 변수\n",
        "데이터를 저장할 수 있는 공간\n",
        "\n",
        "**변수 사용 시 주의사항**\n",
        "- 첫 글자는 영문, 혹은 _(언더바)로 시작할 것 (한글도 가능)\n",
        "- 영문자, 숫자, _(언더바)만으로 구성할 것 (공백문자 불가)\n",
        "- 대문자, 소문자 구분해서 사용할 것\n",
        "- 예약어는 피할 것"
      ]
    },
    {
      "cell_type": "code",
      "execution_count": null,
      "id": "c86ab944",
      "metadata": {
        "id": "c86ab944"
      },
      "outputs": [],
      "source": []
    },
    {
      "cell_type": "markdown",
      "id": "6b43e39d",
      "metadata": {
        "id": "6b43e39d"
      },
      "source": [
        "### 파이썬 자료형"
      ]
    },
    {
      "cell_type": "code",
      "execution_count": null,
      "id": "bdcd0ef1",
      "metadata": {
        "id": "bdcd0ef1"
      },
      "outputs": [],
      "source": [
        "d1 = 123\n",
        "d2 = '123'\n",
        "d3 = [123]\n",
        "d4 = (123,)\n",
        "d5 = {'key':123}\n",
        "d6 = {123}\n",
        "d7 = True\n",
        "\n",
        "print(f'데이터 {d1}의 자료형: {type(d1)}')\n",
        "print(f'데이터 {d2}의 자료형: {type(d2)}')\n",
        "print(f'데이터 {d3}의 자료형: {type(d3)}')\n",
        "print(f'데이터 {d4}의 자료형: {type(d4)}')\n",
        "print(f'데이터 {d5}의 자료형: {type(d5)}')\n",
        "print(f'데이터 {d6}의 자료형: {type(d6)}')\n",
        "print(f'데이터 {d7}의 자료형: {type(d7)}')"
      ]
    },
    {
      "cell_type": "markdown",
      "id": "7cda86df",
      "metadata": {
        "id": "7cda86df"
      },
      "source": [
        "### 표준 입력과 출력\n",
        "- 키보드로부터 입력을 받는 함수( input() )을 표준 입력함수라 한다.\n",
        "- 화면에 출력하는 함수( print() )를 표준 출력함수라 한다."
      ]
    },
    {
      "cell_type": "code",
      "execution_count": null,
      "id": "00ff5c37",
      "metadata": {
        "colab": {
          "base_uri": "https://localhost:8080/"
        },
        "id": "00ff5c37",
        "outputId": "2ef82f3e-e0c4-4414-f6e8-00765eccb58b"
      },
      "outputs": [
        {
          "output_type": "stream",
          "name": "stdout",
          "text": [
            "숫자를 입력하세요: 20\n",
            "변수 a의 값: 20 {<class 'int'>}\n"
          ]
        }
      ],
      "source": [
        "# 표준 입력(키보드로부터 데이터를 입력 받는 것)\n",
        "a = input('숫자를 입력하세요: ')\n",
        "a = int(a)\n",
        "\n",
        "# 표준 출력\n",
        "print(f'변수 a의 값: {a}', {type(a)})\n"
      ]
    },
    {
      "cell_type": "code",
      "source": [
        "a = int(input('숫자를 입력하세요: '))\n",
        "print(f'변수 a의 값: {a}', {type(a)})"
      ],
      "metadata": {
        "colab": {
          "base_uri": "https://localhost:8080/"
        },
        "id": "552BLV8YVEJQ",
        "outputId": "139d2ade-4823-4465-cc15-7752c7443df9"
      },
      "id": "552BLV8YVEJQ",
      "execution_count": null,
      "outputs": [
        {
          "output_type": "stream",
          "name": "stdout",
          "text": [
            "숫자를 입력하세요: 30\n",
            "변수 a의 값: 30 {<class 'int'>}\n"
          ]
        }
      ]
    },
    {
      "cell_type": "code",
      "source": [
        "a = list(input('숫자를 입력하세요: '))\n",
        "print(f'변수 a의 값: {a}', {type(a)})"
      ],
      "metadata": {
        "colab": {
          "base_uri": "https://localhost:8080/"
        },
        "id": "3ZWJjq2uWJgG",
        "outputId": "b771e4e6-602c-4bfd-9515-be42d6087f1c"
      },
      "id": "3ZWJjq2uWJgG",
      "execution_count": null,
      "outputs": [
        {
          "output_type": "stream",
          "name": "stdout",
          "text": [
            "숫자를 입력하세요: 30\n",
            "변수 a의 값: ['3', '0'] {<class 'list'>}\n"
          ]
        }
      ]
    },
    {
      "cell_type": "markdown",
      "id": "18bc822a",
      "metadata": {
        "id": "18bc822a"
      },
      "source": [
        "#### 문자열 데이터를 숫자(정수)로 변환하기"
      ]
    },
    {
      "cell_type": "code",
      "execution_count": null,
      "id": "aaf9890f",
      "metadata": {
        "id": "aaf9890f"
      },
      "outputs": [],
      "source": [
        "# 문자열 데이터를 숫자(정수)로 변환하기\n",
        "\n",
        "a = input('숫자를 입력하세요: ')\n",
        "a = int(a)"
      ]
    },
    {
      "cell_type": "markdown",
      "id": "c0436ecb",
      "metadata": {
        "id": "c0436ecb"
      },
      "source": [
        "#### 다양한 변수 출력 방법"
      ]
    },
    {
      "cell_type": "code",
      "execution_count": null,
      "id": "7d2e160d",
      "metadata": {
        "scrolled": true,
        "colab": {
          "base_uri": "https://localhost:8080/",
          "height": 141
        },
        "id": "7d2e160d",
        "outputId": "30db6ba9-8434-4988-bd68-5721c5170662"
      },
      "outputs": [
        {
          "output_type": "error",
          "ename": "SyntaxError",
          "evalue": "ignored",
          "traceback": [
            "\u001b[0;36m  File \u001b[0;32m\"<ipython-input-45-5fc3e1378c31>\"\u001b[0;36m, line \u001b[0;32m3\u001b[0m\n\u001b[0;31m    print('변수 a에 기억된 값은 %s 입니다', % a)\u001b[0m\n\u001b[0m                                 ^\u001b[0m\n\u001b[0;31mSyntaxError\u001b[0m\u001b[0;31m:\u001b[0m invalid syntax\n"
          ]
        }
      ],
      "source": [
        "a = input('키보드로 숫자를 입력해 주세요 ')\n",
        "\n",
        "print('변수 a에 기억된 값은 %s 입니다', %a)\n",
        "print(f'변수 a에 기억된 값은 {a}입니다.')"
      ]
    },
    {
      "cell_type": "markdown",
      "id": "7ea5c22e",
      "metadata": {
        "id": "7ea5c22e"
      },
      "source": [
        "### [실습문제] : 계산기 프로그램 만들기\n",
        "정수 2개를 키보드로 각각 입력 받아 아래와 같이 덧셈, 뺄셈, 곱셈, 몫, 나머지를\n",
        "\n",
        "\n",
        "출력하는 프로그램을 만들어 보세요.\n"
      ]
    },
    {
      "cell_type": "code",
      "execution_count": null,
      "id": "fa128ef7",
      "metadata": {
        "colab": {
          "base_uri": "https://localhost:8080/"
        },
        "id": "fa128ef7",
        "outputId": "3c9258fb-e711-4c49-a357-666a6e5c5ea8"
      },
      "outputs": [
        {
          "output_type": "stream",
          "name": "stdout",
          "text": [
            "첫번째 숫자: 10\n",
            "두번째 숫자: 20\n",
            "--------------------------------------------------\n",
            "덧셈: 10 + 20 = 30\n",
            "덧셈: 10 - 20 = -10\n",
            "덧셈: 10 x 20 = 200\n",
            "덧셈: 10 / 20 = 0.500000\n"
          ]
        }
      ],
      "source": [
        "num1 = int(input('첫번째 숫자: '))\n",
        "num2 = int(input('두번째 숫자: '))\n",
        "print('-' * 50) #* : 문자열 반복\n",
        "print('덧셈: %d + %d = %d' % (num1, num2, num1 + num2)) #print('출력할 문구'% (출력할 변수))\n",
        "print('덧셈: %d - %d = %d' % (num1, num2, num1 - num2))\n",
        "print('덧셈: %d x %d = %d' % (num1, num2, num1 * num2))\n",
        "print('덧셈: %d / %d = %f' % (num1, num2, num1 / num2))"
      ]
    },
    {
      "cell_type": "code",
      "source": [
        "num1 = int(input('첫번째 숫자: '))\n",
        "num2 = int(input('두번째 숫자: '))\n",
        "print('-' * 50) #* : 문자열 반복\n",
        "print(f'덧셈: {num1} + {num2} = {num1 + num2}') #print('출력할 문구'% (출력할 변수))\n",
        "print(f'덧셈: {num1} - {num2} = {num1 - num2}')\n",
        "print(f'덧셈: {num1} x {num2} = {num1 * num2}')\n",
        "print(f'덧셈: {num1} / {num2} = {num1 / num2:.2f}') # 장점, 데이터타입이 상관이 없음 / 소수점2자리까지 보여줘\n",
        ":.2f"
      ],
      "metadata": {
        "colab": {
          "base_uri": "https://localhost:8080/"
        },
        "id": "ez9vn1jSYdTM",
        "outputId": "f654f75a-1788-4a9f-f7bf-fd64a12b582a"
      },
      "id": "ez9vn1jSYdTM",
      "execution_count": null,
      "outputs": [
        {
          "output_type": "stream",
          "name": "stdout",
          "text": [
            "첫번째 숫자: 10\n",
            "두번째 숫자: 20\n",
            "--------------------------------------------------\n",
            "덧셈: 10 + 20 = 30\n",
            "덧셈: 10 - 20 = -10\n",
            "덧셈: 10 x 20 = 200\n",
            "덧셈: 10 / 20 = 0.50\n"
          ]
        }
      ]
    },
    {
      "cell_type": "markdown",
      "id": "ca1816b6",
      "metadata": {
        "id": "ca1816b6"
      },
      "source": [
        "- f'string' 함수를 이용해 출력하기"
      ]
    },
    {
      "cell_type": "code",
      "execution_count": null,
      "id": "8b486e15",
      "metadata": {
        "id": "8b486e15"
      },
      "outputs": [],
      "source": [
        "\n",
        "\n"
      ]
    },
    {
      "cell_type": "markdown",
      "id": "157b41ef",
      "metadata": {
        "id": "157b41ef"
      },
      "source": [
        "### [실습문제] : 시간 계산 프로그램\n",
        "속력과 거리를 입력 받아 시간을 계산하여 출력하는 프로그램을 만드세요!\n",
        "- 시간 = 거리 / 속력"
      ]
    },
    {
      "cell_type": "code",
      "execution_count": null,
      "id": "93102e01",
      "metadata": {
        "colab": {
          "base_uri": "https://localhost:8080/"
        },
        "id": "93102e01",
        "outputId": "311b309c-7896-4c1b-95d3-6b75e8a4b351"
      },
      "outputs": [
        {
          "output_type": "stream",
          "name": "stdout",
          "text": [
            "속력를 입력해 주세요(km/h) : 100\n",
            "거리를 입력해 주세요(km) : 50\n",
            "--------------------------------------------------\n",
            "distnace에 걸리는 시간은: 0.50 시간 입니다\n",
            "distnace에 걸리는 시간은: 30.00 분 입니다\n"
          ]
        }
      ],
      "source": [
        "velocity = float(input('속력를 입력해 주세요(km/h) : ')) #int로 하면 단위수가 커질수록 외곡됨??\n",
        "distance = float(input('거리를 입력해 주세요(km) : '))\n",
        "print('-'*50)\n",
        "print(f'distnace에 걸리는 시간은: {distance / velocity :.2f} 시간 입니다' )\n",
        "print(f'distnace에 걸리는 시간은: {distance / velocity *60 :.2f} 분 입니다' )\n",
        "\n"
      ]
    },
    {
      "cell_type": "code",
      "source": [
        "velocity = float(input('속력를 입력해 주세요(km/h) : ')) #int로 하면 단위수가 커질수록 외곡됨??\n",
        "distance = float(input('거리를 입력해 주세요(km) : '))\n",
        "print('-'*50)\n",
        "print(f'속력: {velocity} km/h' )\n",
        "print(f'거리: {distance} km' )\n",
        "print(f'시간: {distance / velocity:.2f} h' )"
      ],
      "metadata": {
        "colab": {
          "base_uri": "https://localhost:8080/"
        },
        "id": "Zeh61bXNbmjt",
        "outputId": "990cdda4-cf0c-4909-8ca1-ff07d45d92f0"
      },
      "id": "Zeh61bXNbmjt",
      "execution_count": null,
      "outputs": [
        {
          "output_type": "stream",
          "name": "stdout",
          "text": [
            "속력를 입력해 주세요(km/h) : 100\n",
            "거리를 입력해 주세요(km) : 50\n",
            "--------------------------------------------------\n",
            "속력: 100.0 km/h\n",
            "거리: 50.0 km\n",
            "시간: 0.50 h\n"
          ]
        }
      ]
    },
    {
      "cell_type": "markdown",
      "id": "89f48168",
      "metadata": {
        "id": "89f48168"
      },
      "source": [
        "- eval()함수 사용하여 문자열을 계산할 수 있다"
      ]
    },
    {
      "cell_type": "code",
      "execution_count": null,
      "id": "39dab77c",
      "metadata": {
        "id": "39dab77c"
      },
      "outputs": [],
      "source": [
        "# eval()함수 사용\n",
        "eval('10+40+')\n"
      ]
    },
    {
      "cell_type": "code",
      "source": [
        "velocity = input('속력를 입력해 주세요(km/h) : ')\n",
        "distance = input('거리를 입력해 주세요(km) : ')\n",
        "print('-'*50)\n",
        "eval(f'{distance}/{velocity}')\n"
      ],
      "metadata": {
        "colab": {
          "base_uri": "https://localhost:8080/"
        },
        "id": "3WO_qOuxcOo8",
        "outputId": "403613d8-1953-4802-aaae-88f1a223e2ba"
      },
      "id": "3WO_qOuxcOo8",
      "execution_count": null,
      "outputs": [
        {
          "output_type": "stream",
          "name": "stdout",
          "text": [
            "속력를 입력해 주세요(km/h) : 100\n",
            "거리를 입력해 주세요(km) : 50\n",
            "--------------------------------------------------\n"
          ]
        },
        {
          "output_type": "execute_result",
          "data": {
            "text/plain": [
              "0.5"
            ]
          },
          "metadata": {},
          "execution_count": 67
        }
      ]
    },
    {
      "cell_type": "code",
      "source": [
        "velocity = input('속력를 입력해 주세요(km/h) : ')\n",
        "distance = input('거리를 입력해 주세요(km) : ')\n",
        "print('-'*50)\n",
        "time = eval(f'{distance}/{velocity}')\n",
        "print(f'걸린 시간은 {time} h = {distance} km / {velocity} km/h')\n"
      ],
      "metadata": {
        "colab": {
          "base_uri": "https://localhost:8080/"
        },
        "id": "s4HXnL60cgzS",
        "outputId": "ad0e4a03-e29d-47dd-ad1e-e4cb7d94f28a"
      },
      "id": "s4HXnL60cgzS",
      "execution_count": null,
      "outputs": [
        {
          "output_type": "stream",
          "name": "stdout",
          "text": [
            "속력를 입력해 주세요(km/h) : 100\n",
            "거리를 입력해 주세요(km) : 30\n",
            "--------------------------------------------------\n",
            "걸린 시간은 0.3 h= 30 km / 100 km/h\n"
          ]
        }
      ]
    },
    {
      "cell_type": "markdown",
      "id": "85b8c542",
      "metadata": {
        "id": "85b8c542"
      },
      "source": [
        "50### 내장 수학 함수\n",
        "- 파이썬 내장 함수 https://docs.python.org/ko/3.10/library/functions.html"
      ]
    },
    {
      "cell_type": "code",
      "execution_count": null,
      "id": "2bfba8be",
      "metadata": {
        "scrolled": true,
        "colab": {
          "base_uri": "https://localhost:8080/"
        },
        "id": "2bfba8be",
        "outputId": "d996a4f4-da16-4e4b-fbd1-bcac92190760"
      },
      "outputs": [
        {
          "output_type": "stream",
          "name": "stdout",
          "text": [
            "원주율: 3.141592653589793\n",
            "절대값: 3.14\n",
            "반올림: -3\n",
            "올림  : -3\n",
            "내림  : -4\n",
            "제곱  : 256.0\n",
            "제곱근: 2.0\n",
            "로그  : 2.302585092994046\n"
          ]
        }
      ],
      "source": [
        "import math\n",
        "\n",
        "a = -3.14\n",
        "\n",
        "print(f'원주율: {math.pi}')\n",
        "print(f'절대값: {abs(a)}')\n",
        "print(f'반올림: {round(a)}')\n",
        "print(f'올림  : {math.ceil(a)}')\n",
        "print(f'내림  : {math.floor(a)}')\n",
        "print(f'제곱  : {math.pow(2,8)}')\n",
        "print(f'제곱근: {math.sqrt(4)}')\n",
        "print(f'로그  : {math.log(10)}')"
      ]
    },
    {
      "cell_type": "markdown",
      "id": "c8147e87",
      "metadata": {
        "id": "c8147e87"
      },
      "source": [
        "### [실습문제]: 수학 함수 사용하여 계산하기\n",
        "- 문제1: 반지름이 4인 원의 넓이 출력\n",
        "- 문제2: 3.14 곱하가 2 나누기 7의 값을 반올림하여 계산 결과 출력\n",
        "- 문제3: 원주율을 3.14로 만들어서 반지름이 4인 원의 둘레의 길이 출력"
      ]
    },
    {
      "cell_type": "code",
      "execution_count": null,
      "id": "45ed86c9",
      "metadata": {
        "colab": {
          "base_uri": "https://localhost:8080/"
        },
        "id": "45ed86c9",
        "outputId": "95e07947-b85f-4c5a-c0b4-0addf3622774"
      },
      "outputs": [
        {
          "output_type": "stream",
          "name": "stdout",
          "text": [
            "반지름이 4인 원의 넓이는: 50.26548245743669\n"
          ]
        }
      ],
      "source": [
        "# - 문제1: 반지름이 4인 원의 넓이 출력\n",
        "a = 4\n",
        "print(f'반지름이 4인 원의 넓이는: {math.pi*a**2}')\n"
      ]
    },
    {
      "cell_type": "code",
      "source": [
        "# - 문제2: 3.14 곱하가 2 나누기 7의 값을 반올림하여 계산 결과 출력\n",
        "a = math.pi\n",
        "print(f'3.15곱하기 2 나누기 7을 반올림한 값은: {round(a*2/7)}')"
      ],
      "metadata": {
        "colab": {
          "base_uri": "https://localhost:8080/"
        },
        "id": "43QPzyD4e3fH",
        "outputId": "98f85d9c-63e6-42e1-917f-5a57e744bef3"
      },
      "id": "43QPzyD4e3fH",
      "execution_count": null,
      "outputs": [
        {
          "output_type": "stream",
          "name": "stdout",
          "text": [
            "3.15곱하기 2 나누기 7을 반올림한 값은: 1\n"
          ]
        }
      ]
    },
    {
      "cell_type": "code",
      "source": [
        "# - 문제3: 원주율을 3.14로 만들어서 반지름이 4인 원의 둘레의 길이 출력\n",
        "a = round(math.pi,2)\n",
        "print(f'원주율을 {a}로 만들어서 반지름이 4인 원의 둘레의 길이는: {2*a*4}')"
      ],
      "metadata": {
        "colab": {
          "base_uri": "https://localhost:8080/"
        },
        "id": "ZLAPr-3_e3T4",
        "outputId": "815948e0-7877-45e8-9808-04af50da2cc6"
      },
      "id": "ZLAPr-3_e3T4",
      "execution_count": null,
      "outputs": [
        {
          "output_type": "stream",
          "name": "stdout",
          "text": [
            "원주율을 3.14로 만들어서 반지름이 4인 원의 둘레의 길이는: 25.12\n"
          ]
        }
      ]
    },
    {
      "cell_type": "markdown",
      "id": "32f4b4ce",
      "metadata": {
        "id": "32f4b4ce"
      },
      "source": [
        "---------------------------"
      ]
    },
    {
      "cell_type": "code",
      "source": [
        "#정수 a를 입력 받아, a + aa + aaa의 결과가 나오는 프로그램을 작성하세요\n",
        "a = int(input('정수를 입력하세요: '))\n",
        "\n",
        "print(f'{a} + {a+a*10} + {a+a*10+a*100} = {a + a+a*10 + a+a*10+a*100}')"
      ],
      "metadata": {
        "colab": {
          "base_uri": "https://localhost:8080/"
        },
        "id": "_EF8i0WVnBjS",
        "outputId": "d8c4e457-157a-4a71-86f9-ee262b95c654"
      },
      "id": "_EF8i0WVnBjS",
      "execution_count": null,
      "outputs": [
        {
          "output_type": "stream",
          "name": "stdout",
          "text": [
            "정수를 입력하세요: 7\n",
            "7 + 77 + 777 = 861\n"
          ]
        }
      ]
    },
    {
      "cell_type": "code",
      "source": [
        "a = str(input('정수를 입력하세요: '))\n",
        "\n",
        "print(f'{a} + {a*2} + {a*3} = {int(a) + int(a*2) + int(a*3)}')"
      ],
      "metadata": {
        "colab": {
          "base_uri": "https://localhost:8080/"
        },
        "id": "a6i8nUq0oNsx",
        "outputId": "e424b571-e5f2-4740-8c02-9ab334750a44"
      },
      "id": "a6i8nUq0oNsx",
      "execution_count": null,
      "outputs": [
        {
          "output_type": "stream",
          "name": "stdout",
          "text": [
            "정수를 입력하세요: 7\n",
            "7 + 77 + 777 = 861\n"
          ]
        }
      ]
    },
    {
      "cell_type": "code",
      "source": [
        "a = input('정수를 입력하세요: ')\n",
        "\n",
        "print(f\"{a} + {a*2} + {a*3} = {eval(a)+eval(a*2)+eval(a*3)}\")"
      ],
      "metadata": {
        "colab": {
          "base_uri": "https://localhost:8080/"
        },
        "id": "0RSGjP_8pzu9",
        "outputId": "b69a32bd-6cab-4866-9f24-7889d60c148f"
      },
      "id": "0RSGjP_8pzu9",
      "execution_count": null,
      "outputs": [
        {
          "output_type": "stream",
          "name": "stdout",
          "text": [
            "정수를 입력하세요: 7\n",
            "7 + 77 + 777 = 861\n"
          ]
        }
      ]
    },
    {
      "cell_type": "code",
      "source": [
        "a = input('정수를 입력하세요: ')\n",
        "result = f\"{a} + {a*2} + {a*3}\"\n",
        "print(f\"{result} = {eval(result)}\")"
      ],
      "metadata": {
        "id": "zljGbhnlsPaR"
      },
      "id": "zljGbhnlsPaR",
      "execution_count": null,
      "outputs": []
    },
    {
      "cell_type": "markdown",
      "id": "12be6789",
      "metadata": {
        "id": "12be6789"
      },
      "source": [
        "## 2-2.문자와 문자열"
      ]
    },
    {
      "cell_type": "markdown",
      "id": "90255097",
      "metadata": {
        "id": "90255097"
      },
      "source": [
        "#### 문자와 문자열 변환"
      ]
    },
    {
      "cell_type": "code",
      "execution_count": 2,
      "id": "a52f17d8",
      "metadata": {
        "id": "a52f17d8",
        "colab": {
          "base_uri": "https://localhost:8080/"
        },
        "outputId": "383d62d1-50cf-4eda-b5fd-a32432d65f60"
      },
      "outputs": [
        {
          "output_type": "stream",
          "name": "stdout",
          "text": [
            "65\n",
            "97\n",
            "33\n",
            "44032\n"
          ]
        }
      ],
      "source": [
        "# 문자 --> 숫자(정수) 로 변환 : ord() 함수 사용\n",
        "print( ord('A') )\n",
        "print( ord('a'))\n",
        "print( ord('!') )\n",
        "print( ord('가') )"
      ]
    },
    {
      "cell_type": "code",
      "execution_count": 3,
      "id": "88bbb733",
      "metadata": {
        "id": "88bbb733",
        "colab": {
          "base_uri": "https://localhost:8080/"
        },
        "outputId": "6b4b46e5-0488-4bf1-a62f-055cccfbed45"
      },
      "outputs": [
        {
          "output_type": "stream",
          "name": "stdout",
          "text": [
            "A\n",
            "B\n",
            "a\n",
            "b\n",
            "가\n",
            "각\n"
          ]
        }
      ],
      "source": [
        "# 숫자(정수) --> 문자 로 변환 : chr() 함수 사용\n",
        "print( chr(65) )\n",
        "print( chr(66) )\n",
        "print( chr(97) )\n",
        "print( chr(98) )\n",
        "print( chr(44032) )\n",
        "print( chr(44033) )"
      ]
    },
    {
      "cell_type": "code",
      "execution_count": 5,
      "id": "1cbfb609",
      "metadata": {
        "id": "1cbfb609",
        "colab": {
          "base_uri": "https://localhost:8080/"
        },
        "outputId": "f680e0ac-fdc3-4de2-c70a-2ac1cde263a5"
      },
      "outputs": [
        {
          "output_type": "stream",
          "name": "stdout",
          "text": [
            "0b1101001100001100, 0b1100011101110100, 0b1100001101101100, "
          ]
        }
      ],
      "source": [
        "# 문자 --> 숫자 --> 이진수 로 변환\n",
        "for c in '파이썬':\n",
        "    숫자변환 = ord(c)              # unicode\n",
        "    이진수변환 = bin(숫자변환)     # 16진수 binarycode\n",
        "    print( 이진수변환, end = ', ')  # end = ' ' 한 줄로 표현하기"
      ]
    },
    {
      "cell_type": "code",
      "execution_count": 6,
      "id": "d9577a3f",
      "metadata": {
        "id": "d9577a3f",
        "colab": {
          "base_uri": "https://localhost:8080/"
        },
        "outputId": "1fcc7dfc-ba5d-4a4f-d488-c2b1dff3ac43"
      },
      "outputs": [
        {
          "output_type": "stream",
          "name": "stdout",
          "text": [
            "1101001100001100 1100011101110100 1100001101101100 "
          ]
        }
      ],
      "source": [
        "for c in '파이썬':\n",
        "    # 이진수에서 앞'0b'를 없애기 위해 format() 함수 사용할 수 있다.\n",
        "    print( format(ord(c), 'b'), end = ' ')  # 한 줄로 표현하기"
      ]
    },
    {
      "cell_type": "markdown",
      "id": "c87a0c03",
      "metadata": {
        "id": "c87a0c03"
      },
      "source": [
        "### 문자열 따옴표로 지정"
      ]
    },
    {
      "cell_type": "markdown",
      "id": "e343167b",
      "metadata": {
        "id": "e343167b"
      },
      "source": [
        "#### 큰 따옴표  or 작은 따옴표로 지정한다"
      ]
    },
    {
      "cell_type": "code",
      "execution_count": 8,
      "id": "fae54804",
      "metadata": {
        "id": "fae54804",
        "colab": {
          "base_uri": "https://localhost:8080/"
        },
        "outputId": "8de27e97-5a15-4e00-8913-7e0abeec35e1"
      },
      "outputs": [
        {
          "output_type": "stream",
          "name": "stdout",
          "text": [
            "Hello\n",
            "Hello\n",
            "Hello 'world\n",
            "Hello \"world\n",
            " \"Yes, I can!\" \n"
          ]
        }
      ],
      "source": [
        "print('Hello')\n",
        "print(\"Hello\")\n",
        "print(\"Hello 'world\")\n",
        "print('Hello \"world')\n",
        "print(' \\\"Yes, I can!\\\" ')"
      ]
    },
    {
      "cell_type": "markdown",
      "id": "66f9d31e",
      "metadata": {
        "id": "66f9d31e"
      },
      "source": [
        "#### 따옴표 세 개 사용 : 여러 줄로 표현할 때"
      ]
    },
    {
      "cell_type": "code",
      "execution_count": 9,
      "id": "48fe4ca0",
      "metadata": {
        "id": "48fe4ca0",
        "colab": {
          "base_uri": "https://localhost:8080/"
        },
        "outputId": "02cc7105-532f-4992-91ff-0f2460bd0687"
      },
      "outputs": [
        {
          "output_type": "stream",
          "name": "stdout",
          "text": [
            "박씨가 소리질렀다.\n",
            "도둑이야!\n"
          ]
        }
      ],
      "source": [
        "a = '''박씨가 소리질렀다.\n",
        "도둑이야!'''\n",
        "print(a)"
      ]
    },
    {
      "cell_type": "code",
      "execution_count": 11,
      "id": "b32c2a51",
      "metadata": {
        "scrolled": true,
        "id": "b32c2a51",
        "colab": {
          "base_uri": "https://localhost:8080/"
        },
        "outputId": "49e31e30-a4d5-469c-c0bc-e46238282d6f"
      },
      "outputs": [
        {
          "output_type": "stream",
          "name": "stdout",
          "text": [
            "OOO카페 메뉴판\n",
            "- 아메리카노:  3000원\n",
            "- 카페라테:     4000원\n",
            "- 카페모카:     5000원\n"
          ]
        }
      ],
      "source": [
        "menu = '''OOO카페 메뉴판\n",
        "- 아메리카노:  3000원\n",
        "- 카페라테:     4000원\n",
        "- 카페모카:     5000원'''\n",
        "print(menu)"
      ]
    },
    {
      "cell_type": "markdown",
      "id": "fb8a7c56",
      "metadata": {
        "id": "fb8a7c56"
      },
      "source": [
        "### [실습] 주문받아 출력하기"
      ]
    },
    {
      "cell_type": "code",
      "execution_count": 13,
      "id": "3a4d57f5",
      "metadata": {
        "id": "3a4d57f5",
        "colab": {
          "base_uri": "https://localhost:8080/"
        },
        "outputId": "61bc69c1-b343-49c1-e534-61773021c801"
      },
      "outputs": [
        {
          "output_type": "stream",
          "name": "stdout",
          "text": [
            "카페주문 프로그램입니다\n",
            "--------------------------------------------------\n",
            "OOO카페 메뉴판\n",
            "- 아메리카노:  3000원\n",
            "- 카페라테:     4000원\n",
            "- 카페모카:     5000원\n",
            "--------------------------------------------------\n",
            "주문하실 음료를 입력하세요: 카페라떼\n",
            "주문하신 음료 카페라떼가 나왔습니다. 맛있게 드세요~\n"
          ]
        }
      ],
      "source": [
        "# 주문받아 출력하기\n",
        "print('카페주문 프로그램입니다')\n",
        "print('-' * 50)\n",
        "print(menu)\n",
        "print('-' * 50)\n",
        "coffee = input('주문하실 음료를 입력하세요: ')\n",
        "print(f'주문하신 음료 {coffee}가 나왔습니다. 맛있게 드세요~')"
      ]
    },
    {
      "cell_type": "markdown",
      "id": "38c40628",
      "metadata": {
        "id": "38c40628"
      },
      "source": [
        "### 문자열 연산\n",
        "- (+): 문자열 연결하기"
      ]
    },
    {
      "cell_type": "code",
      "execution_count": 14,
      "id": "6af90aaf",
      "metadata": {
        "id": "6af90aaf",
        "colab": {
          "base_uri": "https://localhost:8080/"
        },
        "outputId": "93e934ed-9824-4bd3-b5e1-2ed8c14f9811"
      },
      "outputs": [
        {
          "output_type": "stream",
          "name": "stdout",
          "text": [
            "안녕하세요이수연님\n",
            "안녕하세요 이수연님\n"
          ]
        }
      ],
      "source": [
        "print('안녕하세요'+ '이수연님')\n",
        "print('안녕하세요', '이수연님')"
      ]
    },
    {
      "cell_type": "markdown",
      "id": "a27ee4d1",
      "metadata": {
        "id": "a27ee4d1"
      },
      "source": [
        "- (*) : 반복의 의미"
      ]
    },
    {
      "cell_type": "code",
      "execution_count": 15,
      "id": "229965c2",
      "metadata": {
        "id": "229965c2",
        "colab": {
          "base_uri": "https://localhost:8080/"
        },
        "outputId": "28dfb201-145f-4b3a-e265-1ea67c25c169"
      },
      "outputs": [
        {
          "output_type": "stream",
          "name": "stdout",
          "text": [
            "조은별님 조은별님 조은별님 \n"
          ]
        }
      ],
      "source": [
        "print('조은별님 '*3)\n"
      ]
    },
    {
      "cell_type": "markdown",
      "id": "2d2a3e0e",
      "metadata": {
        "id": "2d2a3e0e"
      },
      "source": [
        "### [실습문제] 문자열 출력하기\n",
        "- 문제1: 화면에   Mary’s cosmetics   출력\n",
        "- 문제2: 화면에  박씨가 소리질렀다. “도둑이야!”.  출력\n",
        "- 문제3: 다음 코드 실행시켜서 \\t와 \\n의 역할 확인하기 <br>\n",
        "print(\"안녕하세요.\\n오늘\\t날씨가\\t\\t좋습니다.\")    \\n 엔터 \\t 탭"
      ]
    },
    {
      "cell_type": "code",
      "execution_count": 18,
      "id": "36f87e66",
      "metadata": {
        "id": "36f87e66",
        "colab": {
          "base_uri": "https://localhost:8080/"
        },
        "outputId": "be3380c6-f1ad-41b9-d03c-1447d352d9b4"
      },
      "outputs": [
        {
          "output_type": "stream",
          "name": "stdout",
          "text": [
            "Mary’s cosmetics\n",
            "박씨가 소리질렀다. “도둑이야!”.\n",
            "안녕하세요.\n",
            "오늘\t날씨가\t\t좋습니다.\n"
          ]
        }
      ],
      "source": [
        "print('Mary’s cosmetics')\n",
        "print('박씨가 소리질렀다. “도둑이야!”.')\n",
        "print(\"안녕하세요.\\n오늘\\t날씨가\\t\\t좋습니다.\")"
      ]
    },
    {
      "cell_type": "markdown",
      "id": "13245f26",
      "metadata": {
        "id": "13245f26"
      },
      "source": [
        "-------------------"
      ]
    },
    {
      "cell_type": "markdown",
      "id": "020d1cc5",
      "metadata": {
        "id": "020d1cc5"
      },
      "source": [
        "## 2-3.문자열 인덱싱과 슬라이싱\n",
        "시퀀스(순서)가 있는 데이터형은 인덱싱과 슬라이싱이 가능함"
      ]
    },
    {
      "cell_type": "code",
      "execution_count": null,
      "id": "9c875a9b",
      "metadata": {
        "id": "9c875a9b"
      },
      "outputs": [],
      "source": [
        "a = '우리는 민족중흥의 역사적 사명을 띠고 이 땅에 태어났다.'\n",
        "print( )"
      ]
    },
    {
      "cell_type": "code",
      "execution_count": null,
      "id": "e50df3b3",
      "metadata": {
        "id": "e50df3b3"
      },
      "outputs": [],
      "source": [
        "fruits = 'orange'\n",
        "print( )\n"
      ]
    },
    {
      "cell_type": "code",
      "source": [
        "기사 = '''증권가는 18일 셀트리온과 셀트리온헬스케어의 합병법인 시가총액이 40조원대일 것으로 추산하면서 시너지 효과를 기대했다.\n",
        "\n",
        "셀트리온과 셀트리온헬스케어는 전날 공시를 통해 이날 양사 합병 승인에 관한 이사회 결의를 거쳐 셀트리온이 셀트리온헬스케어를 흡수합병한다고 밝혔다.\n",
        "\n",
        "이는 단계별 합병의 첫 단계로 셀트리온과 셀트리온헬스케어를 우선 합병하고, 이후 셀트리온제약의 사업 강화를 거쳐 통합 셀트리온과 셀트리온제약의 두 번째 합병을 추진할 계획이다.\n",
        "\n",
        "증권가는 일단 합병에 따른 시너지 효과를 기대했다.'''\n",
        "print(기사.count('셀트리온')) #기사라는 변수안에서 '셀트리온' 단어의 갯수\n",
        "print(기사.find('합병'))\n",
        "print(기사.find('오늘'))\n",
        "#print(기사.index('오늘')) #인덱스는 찾을수 없을때 오류 발생\n"
      ],
      "metadata": {
        "colab": {
          "base_uri": "https://localhost:8080/"
        },
        "id": "fzghQ54eJ90Y",
        "outputId": "04e4237b-9fbc-4c39-c142-709c0fd49a37"
      },
      "id": "fzghQ54eJ90Y",
      "execution_count": 23,
      "outputs": [
        {
          "output_type": "stream",
          "name": "stdout",
          "text": [
            "11\n",
            "25\n",
            "-1\n"
          ]
        }
      ]
    },
    {
      "cell_type": "code",
      "source": [
        "기사 = 기사.replace('셀트리온', 'celtrion')\n",
        "\n",
        "result = 기사.split(' ')\n",
        "print(result)\n",
        "print(f'리스트의 개수(길이): {len(result)}')"
      ],
      "metadata": {
        "colab": {
          "base_uri": "https://localhost:8080/"
        },
        "id": "Udmcr71cg8A7",
        "outputId": "c3741d99-add8-4ba4-e13e-06381cca6ad6"
      },
      "id": "Udmcr71cg8A7",
      "execution_count": 57,
      "outputs": [
        {
          "output_type": "stream",
          "name": "stdout",
          "text": [
            "['증권가는', '18일', '셀트리온과', '셀트리온헬스케어의', '합병법인', '시가총액이', '40조원대일', '것으로', '추산하면서', '시너지', '효과를', '기대했다.\\n\\n셀트리온과', '셀트리온헬스케어는', '전날', '공시를', '통해', '이날', '양사', '합병', '승인에', '관한', '이사회', '결의를', '거쳐', '셀트리온이', '셀트리온헬스케어를', '흡수합병한다고', '밝혔다.\\n\\n이는', '단계별', '합병의', '첫', '단계로', '셀트리온과', '셀트리온헬스케어를', '우선', '합병하고,', '이후', '셀트리온제약의', '사업', '강화를', '거쳐', '통합', '셀트리온과', '셀트리온제약의', '두', '번째', '합병을', '추진할', '계획이다.\\n\\n증권가는', '일단', '합병에', '따른', '시너지', '효과를', '기대했다.']\n",
            "리스트의 개수(길이): 55\n"
          ]
        }
      ]
    },
    {
      "cell_type": "markdown",
      "source": [
        "### [실습문제] 파일명과 확장자 분리하기"
      ],
      "metadata": {
        "id": "7qLGtIH-Pu64"
      },
      "id": "7qLGtIH-Pu64"
    },
    {
      "cell_type": "code",
      "source": [
        "#split() 함수로 파일명과 확장자 분리하기\n",
        "fname = input('파일을 입력하세요: ')\n",
        "print(f'입력한 파일은: {fname}')\n",
        "\n",
        "a = fname.split('.')\n",
        "print(f'파일명: {a[0]}, 확장자: {a[1]}')\n",
        "print(a)"
      ],
      "metadata": {
        "colab": {
          "base_uri": "https://localhost:8080/"
        },
        "id": "C-aPb94xKwQa",
        "outputId": "904d72ee-caf3-4d08-99a5-db616c7ca26d"
      },
      "id": "C-aPb94xKwQa",
      "execution_count": 25,
      "outputs": [
        {
          "output_type": "stream",
          "name": "stdout",
          "text": [
            "파일을 입력하세요: test.py\n",
            "입력한 파일은: test.py\n",
            "파일명: test, 확장자: py\n",
            "['test', 'py']\n"
          ]
        }
      ]
    },
    {
      "cell_type": "markdown",
      "id": "1aecf2d0",
      "metadata": {
        "id": "1aecf2d0"
      },
      "source": [
        "---------------------------"
      ]
    },
    {
      "cell_type": "code",
      "source": [],
      "metadata": {
        "id": "d8A7b_6tKvZU"
      },
      "id": "d8A7b_6tKvZU",
      "execution_count": null,
      "outputs": []
    },
    {
      "cell_type": "markdown",
      "id": "0f48d7cf",
      "metadata": {
        "id": "0f48d7cf"
      },
      "source": [
        "## 2-4.변수 활용"
      ]
    },
    {
      "cell_type": "markdown",
      "id": "d26c5d6e",
      "metadata": {
        "id": "d26c5d6e"
      },
      "source": [
        "### [실습문제]: 지불할 음식 총 가격 계산하기\n",
        "- 음식가격:  4,450 원\n",
        "- 세금: 6.75%\n",
        "- 팁: 15%\n",
        "1. meal 변수를 선언하고 값을 4450으로 지정하세요.\n",
        "2. tax 변수를 생성하고 값으로 6.75%를 소수점 형태로 지정하세요.\n",
        "3. tip 변수를 생성하고 값으로 15%를 소수점 형태로 지정하세요.\n",
        "4. meal의 변수값에 세금을 곱해 meal 변수에 지정하세요.\n",
        "5. 음식값에 tip을 더해 total 변수에 지정하세요.\n",
        "6. total 변수 값을 출력하세요."
      ]
    },
    {
      "cell_type": "code",
      "execution_count": 29,
      "id": "933828b3",
      "metadata": {
        "id": "933828b3",
        "colab": {
          "base_uri": "https://localhost:8080/"
        },
        "outputId": "e1eb7190-0a48-4f5d-f326-a4e8d7dafc72"
      },
      "outputs": [
        {
          "output_type": "stream",
          "name": "stdout",
          "text": [
            "300.375\n",
            "5462.93125\n"
          ]
        }
      ],
      "source": [
        "meal = 4450    # 1.음식가격\n",
        "tax = 0.0675   # 2.세금\n",
        "tip = 0.15     # 3.팁\n",
        "\n",
        "#meal의 변수값에 세금을 곱해 meal 변수에 지정하세요.\n",
        "meal_t = meal*tax\n",
        "print(meal_t)\n",
        "#음식값에 tip을 더해 total 변수에 지정하세요.\n",
        "total = meal + meal_t + (meal + meal_t)*tip\n",
        "#total 변수 값을 출력하세요.\n",
        "print(total)"
      ]
    },
    {
      "cell_type": "code",
      "source": [
        "meal = 4450    # 1.음식가격\n",
        "tax = 0.0675   # 2.세금\n",
        "tip = 0.15     # 3.팁\n",
        "print(f'순수 세금: {meal*tax}')\n",
        "meal = meal + (meal * tax)   # 4. 음식가격\n",
        "total = meal + (meal * tip)  # 5. 팁 적용한 총 금액\n",
        "print(f'팀 금액: {meal * tip}')\n",
        "print(f'내가 지불해야 할 총 금액: {round(total,2)}')"
      ],
      "metadata": {
        "id": "qpZxX6C0T1ht"
      },
      "id": "qpZxX6C0T1ht",
      "execution_count": null,
      "outputs": []
    },
    {
      "cell_type": "markdown",
      "id": "a4fa74c9",
      "metadata": {
        "id": "a4fa74c9"
      },
      "source": [
        "### [실습문제]: 섭씨온도를 화씨온도로 변환하기\n",
        "- 섭씨 온도 (Celsius): 1 atm에서의 물의 어는점을 0도, 끓는점을 100도로 정한 온도 체계. (°C)\n",
        "\n",
        "\n",
        "- 화씨 온도 (Fahrenheit): 물이 어는 온도는 32도, 물이 끓는 온도는 212도. 180등분. (°F)\n",
        "- 섭씨온도(℃) = (5 / 9) × (℉ - 32)  # Celsius\n",
        "- 화씨온도(℉) = (9 / 5) × ℃ + 32    # Fahrenheit"
      ]
    },
    {
      "cell_type": "code",
      "execution_count": 34,
      "id": "d65f3301",
      "metadata": {
        "scrolled": true,
        "id": "d65f3301",
        "colab": {
          "base_uri": "https://localhost:8080/"
        },
        "outputId": "c5515a08-67b5-47b7-f775-d4c3405da64c"
      },
      "outputs": [
        {
          "output_type": "stream",
          "name": "stdout",
          "text": [
            "화씨온도를 입력하세요30\n",
            "현재 화씨온도30℃를 섭씨온도로 변환하면 86.0℉이다 <class 'int'>\n"
          ]
        }
      ],
      "source": [
        "# c_temp = input()   #키보드로부터 입력을 받는 함수: input()\n",
        "# c_temp = int(c_temp)  # 정수로 변환: int()\n",
        "# print(c_temp, type(c_temp) )\n",
        "\n",
        "c_temp = input(\"화씨온도를 입력하세요\")\n",
        "c_temp = int(c_temp)\n",
        "f_temp = (9 / 5) * c_temp + 32\n",
        "print(f'현재 화씨온도{c_temp}℃를 섭씨온도로 변환하면 {f_temp}℉이다', type(c_temp) )"
      ]
    },
    {
      "cell_type": "markdown",
      "id": "a57cbf87",
      "metadata": {
        "id": "a57cbf87"
      },
      "source": [
        "-------"
      ]
    },
    {
      "cell_type": "markdown",
      "id": "f0265f78",
      "metadata": {
        "id": "f0265f78"
      },
      "source": [
        "## 2-5.연산자"
      ]
    },
    {
      "cell_type": "markdown",
      "id": "bff8051d",
      "metadata": {
        "id": "bff8051d"
      },
      "source": [
        "### [실습문제]: 동전 교환 프로그램 만들기"
      ]
    },
    {
      "cell_type": "code",
      "execution_count": 44,
      "id": "105db988",
      "metadata": {
        "id": "105db988",
        "colab": {
          "base_uri": "https://localhost:8080/"
        },
        "outputId": "bc2b9a62-973c-4d9f-e33b-00e33228ae4a"
      },
      "outputs": [
        {
          "output_type": "stream",
          "name": "stdout",
          "text": [
            "---동전교환기 프로그램을 작동합니다.---\n",
            "금액을 입력하세요: 4689\n",
            "동전으로 교환하겠습니다.---------\n",
            "--------------------------------------------------\n",
            "500원짜리 ==> 9\n",
            "100원짜리 ==> 1\n",
            "50원짜리 ==> 1\n",
            "10원짜리 ==> 3\n",
            "잔돈 ==> 9으로 교환되었습니다\n"
          ]
        }
      ],
      "source": [
        "# 키보드로부터 금액 입력 받기\n",
        "print('---동전교환기 프로그램을 작동합니다.---')\n",
        "money = int( input('금액을 입력하세요: '))\n",
        "print('동전으로 교환하겠습니다.---------')\n",
        "print('-'*50)\n",
        "print(f\"500원짜리 ==> {money//500}\")\n",
        "money %= 500\n",
        "print(f\"100원짜리 ==> {money//100}\")\n",
        "money %= 100\n",
        "print(f\"50원짜리 ==> {money//50}\")\n",
        "money %= 50\n",
        "print(f\"10원짜리 ==> {money//10}\")\n",
        "money %= 10\n",
        "print(f\"잔돈 ==> {money//1}으로 교환되었습니다\")"
      ]
    },
    {
      "cell_type": "markdown",
      "id": "f359d4a1",
      "metadata": {
        "id": "f359d4a1"
      },
      "source": [
        "-----------------------------------------"
      ]
    },
    {
      "cell_type": "markdown",
      "id": "d8c018ca",
      "metadata": {
        "id": "d8c018ca"
      },
      "source": [
        "## 2-6.리스트(List)\n",
        "- 리스트는 여러 개의 데이터 값을 하나의 변수에 담을 수 있는 데이터 구조\n",
        "- 리스트는 순서(인덱스)가 있고 데이터를 수정, 삭제, 추가 가능하다.\n",
        "- 대괄호로 표현되고 내부 원소는 ,(쉼표)로 구분됨"
      ]
    },
    {
      "cell_type": "markdown",
      "id": "693f2484",
      "metadata": {
        "id": "693f2484"
      },
      "source": [
        "### 리스트 생성"
      ]
    },
    {
      "cell_type": "code",
      "execution_count": 45,
      "id": "a1b79606",
      "metadata": {
        "id": "a1b79606"
      },
      "outputs": [],
      "source": [
        "a = list()\n",
        "a = []\n",
        "a = [1,2,3]\n",
        "a = ['I', 'Love', 'Python']\n",
        "b = [1,2, '사랑해요', 'Python']\n",
        "b = ['a', '1', 1, [2,3], -4]\n",
        "a = [1,2,['a','b',['사랑해', '파이썬']], 3]"
      ]
    },
    {
      "cell_type": "code",
      "execution_count": 46,
      "id": "df23f6cf",
      "metadata": {
        "id": "df23f6cf",
        "colab": {
          "base_uri": "https://localhost:8080/"
        },
        "outputId": "d1499595-91e4-4381-b14d-94096ba5b46c"
      },
      "outputs": [
        {
          "output_type": "stream",
          "name": "stdout",
          "text": [
            "[1, 2, ['a', 'b', ['사랑해', '파이썬']], 3]\n",
            "['a', '1', 1, [2, 3], -4]\n"
          ]
        }
      ],
      "source": [
        "print(a)\n",
        "print(b)"
      ]
    },
    {
      "cell_type": "code",
      "source": [
        "print(list(range(10))) #range() 정수를 순차적으로 만들어주는 함수"
      ],
      "metadata": {
        "colab": {
          "base_uri": "https://localhost:8080/"
        },
        "id": "etIn4csGgA3i",
        "outputId": "017053c6-512c-4bd0-ad1b-a143104e4e88"
      },
      "id": "etIn4csGgA3i",
      "execution_count": 49,
      "outputs": [
        {
          "output_type": "stream",
          "name": "stdout",
          "text": [
            "[0, 1, 2, 3, 4, 5, 6, 7, 8, 9]\n"
          ]
        }
      ]
    },
    {
      "cell_type": "code",
      "source": [
        "a = 'python'\n",
        "list(a)"
      ],
      "metadata": {
        "colab": {
          "base_uri": "https://localhost:8080/"
        },
        "id": "esaPRar1gsnP",
        "outputId": "a5dc4617-859e-4117-cdf4-bc5d22564e40"
      },
      "id": "esaPRar1gsnP",
      "execution_count": 51,
      "outputs": [
        {
          "output_type": "execute_result",
          "data": {
            "text/plain": [
              "['p', 'y', 't', 'h', 'o', 'n']"
            ]
          },
          "metadata": {},
          "execution_count": 51
        }
      ]
    },
    {
      "cell_type": "markdown",
      "id": "7eef7d7c",
      "metadata": {
        "id": "7eef7d7c"
      },
      "source": [
        "### 리스트 삭제"
      ]
    },
    {
      "cell_type": "code",
      "execution_count": 58,
      "id": "52a5a894",
      "metadata": {
        "id": "52a5a894",
        "colab": {
          "base_uri": "https://localhost:8080/",
          "height": 233
        },
        "outputId": "55ccb8ee-f095-4b03-f10c-69ea8e20440d"
      },
      "outputs": [
        {
          "output_type": "stream",
          "name": "stdout",
          "text": [
            "python\n"
          ]
        },
        {
          "output_type": "error",
          "ename": "NameError",
          "evalue": "ignored",
          "traceback": [
            "\u001b[0;31m---------------------------------------------------------------------------\u001b[0m",
            "\u001b[0;31mNameError\u001b[0m                                 Traceback (most recent call last)",
            "\u001b[0;32m<ipython-input-58-c331be03d05f>\u001b[0m in \u001b[0;36m<cell line: 4>\u001b[0;34m()\u001b[0m\n\u001b[1;32m      2\u001b[0m \u001b[0;34m\u001b[0m\u001b[0m\n\u001b[1;32m      3\u001b[0m \u001b[0mprint\u001b[0m\u001b[0;34m(\u001b[0m\u001b[0ma\u001b[0m\u001b[0;34m)\u001b[0m\u001b[0;34m\u001b[0m\u001b[0;34m\u001b[0m\u001b[0m\n\u001b[0;32m----> 4\u001b[0;31m \u001b[0mprint\u001b[0m\u001b[0;34m(\u001b[0m\u001b[0mb\u001b[0m\u001b[0;34m)\u001b[0m\u001b[0;34m\u001b[0m\u001b[0;34m\u001b[0m\u001b[0m\n\u001b[0m",
            "\u001b[0;31mNameError\u001b[0m: name 'b' is not defined"
          ]
        }
      ],
      "source": [
        "del(b) #리스트 전체 삭제\n",
        "\n",
        "print(a)\n",
        "print(b)"
      ]
    },
    {
      "cell_type": "markdown",
      "id": "b3ab38e4",
      "metadata": {
        "id": "b3ab38e4"
      },
      "source": [
        "### 리스트 요소에 접근"
      ]
    },
    {
      "cell_type": "code",
      "execution_count": 102,
      "id": "d36d5b62",
      "metadata": {
        "scrolled": true,
        "id": "d36d5b62",
        "colab": {
          "base_uri": "https://localhost:8080/"
        },
        "outputId": "4bf9ebc1-df29-4e8a-9f0b-4c4396432f48"
      },
      "outputs": [
        {
          "output_type": "stream",
          "name": "stdout",
          "text": [
            "green\n",
            "['blue', 'deepblue']\n",
            "deepblue\n",
            "['red', 'green', ['blue', 'deepblue'], 'black', 'white']\n"
          ]
        }
      ],
      "source": [
        "colors = ['red', 'green', ['blue', 'deepblue'], 'black', 'white']\n",
        "\n",
        "print( colors[1] )\n",
        "print( colors[2] )\n",
        "print( colors[2][1] )\n",
        "print(colors)"
      ]
    },
    {
      "cell_type": "code",
      "source": [
        "\n",
        "# '파이썬'을 출력하려면?"
      ],
      "metadata": {
        "id": "DZbsKm98jafj"
      },
      "id": "DZbsKm98jafj",
      "execution_count": null,
      "outputs": []
    },
    {
      "cell_type": "markdown",
      "id": "b7811d5d",
      "metadata": {
        "id": "b7811d5d"
      },
      "source": [
        "### 리스트 요소 추가 / 변경"
      ]
    },
    {
      "cell_type": "code",
      "execution_count": 103,
      "id": "010220d8",
      "metadata": {
        "id": "010220d8",
        "colab": {
          "base_uri": "https://localhost:8080/"
        },
        "outputId": "536e1d59-74a8-4f20-c115-e5ab0888dea7"
      },
      "outputs": [
        {
          "output_type": "stream",
          "name": "stdout",
          "text": [
            "['red', 'green', ['blue', 'deepblue'], 'black', 'white']\n",
            "['red', 'green', ['blue', 'deepblue'], 'black', 'white', 'pink']\n",
            "['red', 'yellow', 'green', ['blue', 'deepblue'], 'black', 'white', 'pink']\n"
          ]
        }
      ],
      "source": [
        "print(colors)\n",
        "colors.append('pink')     # 리스트 맨 끝에 추가\n",
        "print(colors)\n",
        "colors.insert(1, 'yellow')  # 리스트명.insert(인덱스위치, 값)\n",
        "print(colors)\n"
      ]
    },
    {
      "cell_type": "code",
      "source": [
        "colors[3].insert(1, 'lightblue')\n",
        "print(colors)"
      ],
      "metadata": {
        "colab": {
          "base_uri": "https://localhost:8080/"
        },
        "id": "3nEGLgkgmMxG",
        "outputId": "a3e66ca7-fede-4635-8c1f-463ab161f423"
      },
      "id": "3nEGLgkgmMxG",
      "execution_count": 104,
      "outputs": [
        {
          "output_type": "stream",
          "name": "stdout",
          "text": [
            "['red', 'yellow', 'green', ['blue', 'lightblue', 'deepblue'], 'black', 'white', 'pink']\n"
          ]
        }
      ]
    },
    {
      "cell_type": "code",
      "source": [
        "#리스트 요소 변경\n",
        "colors[1] = 'light green'\n",
        "print(colors)"
      ],
      "metadata": {
        "colab": {
          "base_uri": "https://localhost:8080/"
        },
        "id": "zKE-VduRmb6a",
        "outputId": "3ab157ae-faba-42b6-f2f0-8f3bdffd3fec"
      },
      "id": "zKE-VduRmb6a",
      "execution_count": 105,
      "outputs": [
        {
          "output_type": "stream",
          "name": "stdout",
          "text": [
            "['red', 'light green', 'green', ['blue', 'lightblue', 'deepblue'], 'black', 'white', 'pink']\n"
          ]
        }
      ]
    },
    {
      "cell_type": "code",
      "source": [
        "colors[3][1] = 'pinkblue'\n",
        "print(colors)"
      ],
      "metadata": {
        "colab": {
          "base_uri": "https://localhost:8080/"
        },
        "id": "JFF3kT4Ym32v",
        "outputId": "4249391b-a0ef-4ffd-dfb3-c0aab4b9b3a4"
      },
      "id": "JFF3kT4Ym32v",
      "execution_count": 106,
      "outputs": [
        {
          "output_type": "stream",
          "name": "stdout",
          "text": [
            "['red', 'light green', 'green', ['blue', 'pinkblue', 'deepblue'], 'black', 'white', 'pink']\n"
          ]
        }
      ]
    },
    {
      "cell_type": "code",
      "source": [
        "colors[3:] = 'orange'\n",
        "print(colors)"
      ],
      "metadata": {
        "colab": {
          "base_uri": "https://localhost:8080/"
        },
        "id": "EkrMXEoynC5y",
        "outputId": "374698ff-7f16-4c4e-bb38-8e134c59efbc"
      },
      "id": "EkrMXEoynC5y",
      "execution_count": 107,
      "outputs": [
        {
          "output_type": "stream",
          "name": "stdout",
          "text": [
            "['red', 'light green', 'green', 'o', 'r', 'a', 'n', 'g', 'e']\n"
          ]
        }
      ]
    },
    {
      "cell_type": "markdown",
      "id": "5a5820d1",
      "metadata": {
        "id": "5a5820d1"
      },
      "source": [
        "### 리스트 요소 삭제"
      ]
    },
    {
      "cell_type": "code",
      "execution_count": 108,
      "id": "e4c76b68",
      "metadata": {
        "id": "e4c76b68",
        "colab": {
          "base_uri": "https://localhost:8080/"
        },
        "outputId": "29bce096-45ba-4d9a-cda4-ac53d112fc71"
      },
      "outputs": [
        {
          "output_type": "stream",
          "name": "stdout",
          "text": [
            "['red', 'light green', 'green', 'o', 'r', 'a', 'n', 'g', 'e']\n",
            "['red', 'light green', 'green', 'o', 'r', 'a', 'n', 'g']\n",
            "['red', 'light green', 'o', 'r', 'a', 'n', 'g']\n"
          ]
        },
        {
          "output_type": "execute_result",
          "data": {
            "text/plain": [
              "['red', 'light green', 'r', 'a', 'n', 'g']"
            ]
          },
          "metadata": {},
          "execution_count": 108
        }
      ],
      "source": [
        "print(colors)\n",
        "colors.pop()     # 리스트 맨 끝 요소 삭제\n",
        "print(colors)\n",
        "colors.remove('green')  # 리스트명.remove(값), 단 여러 개 일 경우 첫 번째만 삭제됨\n",
        "print(colors)\n",
        "del colors[2]\n",
        "colors"
      ]
    },
    {
      "cell_type": "code",
      "source": [
        "#임의의 수 생성해서 리스트로 만들고 정렬하기\n",
        "import random\n",
        "\n",
        "numbers = list() #빈 리스트\n",
        "numbers = [] #빈 리스트\n",
        "\n",
        "num = random.randint(1,100)\n",
        "numbers.append(num)\n",
        "print(numbers)"
      ],
      "metadata": {
        "colab": {
          "base_uri": "https://localhost:8080/"
        },
        "id": "hvvpDMyFsYDu",
        "outputId": "66164b78-82f9-4228-a6bb-6f05a77bd2bb"
      },
      "id": "hvvpDMyFsYDu",
      "execution_count": 110,
      "outputs": [
        {
          "output_type": "stream",
          "name": "stdout",
          "text": [
            "[65]\n"
          ]
        }
      ]
    },
    {
      "cell_type": "code",
      "source": [
        "#1~100까지 정수 중에 임의로 하나 뽑아서 리스트에 추가하기\n",
        "numbers.append(random.randint(1,100))\n",
        "numbers.append(random.randint(1,100))\n",
        "numbers.append(random.randint(1,100))\n",
        "numbers.append(random.randint(1,100))\n",
        "print(numbers)"
      ],
      "metadata": {
        "colab": {
          "base_uri": "https://localhost:8080/"
        },
        "id": "2P2PGECestBl",
        "outputId": "2ea112e7-b68f-4277-bf0b-e9c405d5a23a"
      },
      "id": "2P2PGECestBl",
      "execution_count": 111,
      "outputs": [
        {
          "output_type": "stream",
          "name": "stdout",
          "text": [
            "[65, 82, 43, 95, 36]\n"
          ]
        }
      ]
    },
    {
      "cell_type": "code",
      "source": [
        "#정렬하기\n",
        "numbers.sort()\n",
        "print(f'정렬 후: {numbers}')"
      ],
      "metadata": {
        "colab": {
          "base_uri": "https://localhost:8080/"
        },
        "id": "LJVlu70hs5Rt",
        "outputId": "d3c1068b-7892-48bd-db43-7da5a0b3b434"
      },
      "id": "LJVlu70hs5Rt",
      "execution_count": 115,
      "outputs": [
        {
          "output_type": "stream",
          "name": "stdout",
          "text": [
            "정렬 후: [36, 43, 65, 82, 95]\n"
          ]
        }
      ]
    },
    {
      "cell_type": "markdown",
      "id": "df6f6d08",
      "metadata": {
        "id": "df6f6d08"
      },
      "source": [
        "## 2-7.딕셔너리(Dictionary)\n",
        "- 딕셔너리는 쌍이 하나로 묶인 자료구조\n",
        "- 인덱스를 의미하는 ‘키(key)'와 자료의 내용인 ‘ 값(value)'을 이용하여  데이터를 관리\n",
        "- 중괄호 { }로 묶어 구성, 키(Key)와 값(Value)의 쌍으로 구성\n",
        "- 순서(sequence)가 없다"
      ]
    },
    {
      "cell_type": "markdown",
      "id": "4393e9e4",
      "metadata": {
        "id": "4393e9e4"
      },
      "source": [
        "### 딕셔너리 생성"
      ]
    },
    {
      "cell_type": "code",
      "source": [
        "members = {}\n",
        "members = dict()\n",
        "print(type(members), members)"
      ],
      "metadata": {
        "colab": {
          "base_uri": "https://localhost:8080/"
        },
        "id": "rtP5O77ryrXF",
        "outputId": "60210d82-baba-4308-83e8-7574b959635b"
      },
      "id": "rtP5O77ryrXF",
      "execution_count": 118,
      "outputs": [
        {
          "output_type": "stream",
          "name": "stdout",
          "text": [
            "<class 'dict'> {}\n"
          ]
        }
      ]
    },
    {
      "cell_type": "code",
      "execution_count": 121,
      "id": "da6bca38",
      "metadata": {
        "id": "da6bca38",
        "colab": {
          "base_uri": "https://localhost:8080/"
        },
        "outputId": "cc5b9953-caf3-4366-95e3-79ed316e5ecd"
      },
      "outputs": [
        {
          "output_type": "stream",
          "name": "stdout",
          "text": [
            "<class 'dict'> {'name': '진', 'age': 29, 'email': 'jin@gggmail.com'}\n",
            "{'name': '진', 'age': 29, 'email': 'jin@gggmail.com'}\n",
            "29\n",
            "29\n",
            "{'name': '진', 'age': 29, 'email': 'jin@gggmail.com', 7: ['정국', '뷔', '지민']}\n"
          ]
        }
      ],
      "source": [
        "members = {'name':'진', 'age':29, 'email':'jin@gggmail.com'}\n",
        "print(type(members), members)\n",
        "\n",
        "print(members)\n",
        "print(members['age'])\n",
        "print(members.get('age'))\n",
        "members[7] = ['정국', '뷔', '지민'] #딕셔너리에 요소 추가 - 새로운 키(key):값(value) 추가\n",
        "print(members)"
      ]
    },
    {
      "cell_type": "code",
      "source": [
        "prin"
      ],
      "metadata": {
        "id": "AzUfJxM4y2Fx"
      },
      "id": "AzUfJxM4y2Fx",
      "execution_count": null,
      "outputs": []
    },
    {
      "cell_type": "markdown",
      "id": "b5f4d763",
      "metadata": {
        "id": "b5f4d763"
      },
      "source": [
        "### 딕셔너리 키(key)와 값(value)에 접근하기"
      ]
    },
    {
      "cell_type": "code",
      "execution_count": 124,
      "id": "0697a654",
      "metadata": {
        "id": "0697a654",
        "colab": {
          "base_uri": "https://localhost:8080/"
        },
        "outputId": "63b68263-cbc7-4cc3-eca5-4faa466ff1f7"
      },
      "outputs": [
        {
          "output_type": "stream",
          "name": "stdout",
          "text": [
            "100\n",
            "---방법1---\n",
            "국어 => 100\n",
            "수학 => 90\n",
            "영어 => 80\n",
            "dict_items([('국어', 100), ('수학', 90), ('영어', 80)])\n",
            "---방법2---\n",
            "국어 => 100\n",
            "수학 => 90\n",
            "영어 => 80\n"
          ]
        }
      ],
      "source": [
        "scores = {'국어': 100, '수학': 90, '영어': 80}\n",
        "\n",
        "print(scores['국어'])  # 딕셔너리는 키로 접근한다.\n",
        "\n",
        "# 방법1\n",
        "print('---방법1---')\n",
        "for key in scores:\n",
        "    #print('%s => %s' % (key, scores[key]))\n",
        "    print(f'{key} => {scores[key]}')\n",
        "\n",
        "#키/값 요소를 갖는 리스트 형태로 반환하는 함수**\n",
        "print(scores.items())\n",
        "\n",
        "# 방법2\n",
        "print('---방법2---')\n",
        "for (key, value) in scores.items():\n",
        "    # print('%s => %s' % (key, value))\n",
        "    print(f'{key} => {value}')"
      ]
    },
    {
      "cell_type": "code",
      "execution_count": 125,
      "id": "011745db",
      "metadata": {
        "id": "011745db",
        "colab": {
          "base_uri": "https://localhost:8080/"
        },
        "outputId": "2e74edb4-3e44-4f89-f9f4-01db91f6fd5f"
      },
      "outputs": [
        {
          "output_type": "stream",
          "name": "stdout",
          "text": [
            "dict_keys(['국어', '수학', '영어'])\n",
            "dict_values([100, 90, 80])\n",
            "dict_items([('국어', 100), ('수학', 90), ('영어', 80)])\n"
          ]
        }
      ],
      "source": [
        "print(scores.keys())   # 키만 추출\n",
        "print(scores.values()) # 값만 추출\n",
        "print(scores.items())  # (키,값)쌍 형태로 추출"
      ]
    },
    {
      "cell_type": "markdown",
      "id": "7d76f114",
      "metadata": {
        "id": "7d76f114"
      },
      "source": [
        "### 딕셔너리에 요소 추가/수정/삭제"
      ]
    },
    {
      "cell_type": "code",
      "execution_count": 128,
      "id": "f15a3506",
      "metadata": {
        "id": "f15a3506",
        "colab": {
          "base_uri": "https://localhost:8080/"
        },
        "outputId": "f98eb616-5c23-4414-92e5-931db76631aa"
      },
      "outputs": [
        {
          "output_type": "stream",
          "name": "stdout",
          "text": [
            "{'국어': 100, '수학': 90, '영어': 80, 'music': 100}\n",
            "{'국어': 100, '수학': 99, '영어': 80, 'music': 100}\n",
            "{'국어': 100, '수학': 99, 'music': 100}\n"
          ]
        }
      ],
      "source": [
        "scores = {'국어': 100, '수학': 90, '영어': 80}\n",
        "\n",
        "# 키로 요소 추가하기\n",
        "scores['music'] = 100\n",
        "print(scores)\n",
        "\n",
        "# 요소 값 수정하기\n",
        "scores['수학'] = 99\n",
        "print(scores)\n",
        "\n",
        "# # 요소 삭제하기\n",
        "del scores['영어']\n",
        "print(scores)율이"
      ]
    },
    {
      "cell_type": "markdown",
      "id": "45e329e4",
      "metadata": {
        "id": "45e329e4"
      },
      "source": [
        "------------------------"
      ]
    },
    {
      "cell_type": "markdown",
      "source": [
        "### 튜플 tuple"
      ],
      "metadata": {
        "id": "SfF54RHC7O7u"
      },
      "id": "SfF54RHC7O7u"
    },
    {
      "cell_type": "code",
      "source": [
        "a = tuple() #빈 리스트\n",
        "a = ()\n",
        "print(type(a))\n",
        "\n",
        "a= (1,) #튜플에 요소 1개를 정의할 때는 반드시 , 사용\n",
        "print(type(a), a)"
      ],
      "metadata": {
        "colab": {
          "base_uri": "https://localhost:8080/"
        },
        "id": "9nNIvRn97N6U",
        "outputId": "7668ba54-1bb1-4256-9ce8-42fa7026e155"
      },
      "id": "9nNIvRn97N6U",
      "execution_count": 131,
      "outputs": [
        {
          "output_type": "stream",
          "name": "stdout",
          "text": [
            "<class 'tuple'>\n",
            "<class 'tuple'> (1,)\n"
          ]
        }
      ]
    },
    {
      "cell_type": "markdown",
      "source": [
        "### 집합 set"
      ],
      "metadata": {
        "id": "C1VAktsW8dZY"
      },
      "id": "C1VAktsW8dZY"
    },
    {
      "cell_type": "code",
      "source": [
        "#집합 생성, 중복 없애줌\n",
        "\n",
        "a = set() #빈 집합\n",
        "a = set([1,2,3])\n",
        "a = {1,2,3}\n",
        "a = set(\"Hello\")\n",
        "a = {'e', 'H', 'l', 'o'}\n",
        "\n",
        "#집합에서는 중복된 데이터를 배제시킬 수 있다\n",
        "fruits = ['사과', '바나나' , '체리', '사과', '사과', '귤', '귤']\n",
        "a = tuple(set(fruits))\n",
        "#a.sort()\n",
        "print(a)"
      ],
      "metadata": {
        "id": "ymEkz60g63uj"
      },
      "id": "ymEkz60g63uj",
      "execution_count": null,
      "outputs": []
    },
    {
      "cell_type": "code",
      "source": [
        "fruits = set(['사과', '바나나' , '체리', '사과', '사과', '귤', '귤'])\n",
        "a = tuple(set(fruits))\n",
        "#a.sort()\n",
        "print(a)"
      ],
      "metadata": {
        "id": "xC9FyasC-Y1a"
      },
      "id": "xC9FyasC-Y1a",
      "execution_count": null,
      "outputs": []
    },
    {
      "cell_type": "markdown",
      "id": "66025633",
      "metadata": {
        "id": "66025633"
      },
      "source": [
        "끝"
      ]
    }
  ],
  "metadata": {
    "kernelspec": {
      "display_name": "Python 3 (ipykernel)",
      "language": "python",
      "name": "python3"
    },
    "language_info": {
      "codemirror_mode": {
        "name": "ipython",
        "version": 3
      },
      "file_extension": ".py",
      "mimetype": "text/x-python",
      "name": "python",
      "nbconvert_exporter": "python",
      "pygments_lexer": "ipython3",
      "version": "3.10.9"
    },
    "vscode": {
      "interpreter": {
        "hash": "b41e41bff03a930185ac2cbea60ce521f7c8c2f5401ceb5c30214081f77ab4f5"
      }
    },
    "colab": {
      "provenance": [],
      "include_colab_link": true
    }
  },
  "nbformat": 4,
  "nbformat_minor": 5
}