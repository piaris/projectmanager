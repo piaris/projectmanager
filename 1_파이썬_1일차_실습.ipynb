{
  "nbformat": 4,
  "nbformat_minor": 0,
  "metadata": {
    "colab": {
      "provenance": [],
      "authorship_tag": "ABX9TyOCosUyvpcQJsBaTpruzjIW",
      "include_colab_link": true
    },
    "kernelspec": {
      "name": "python3",
      "display_name": "Python 3"
    },
    "language_info": {
      "name": "python"
    }
  },
  "cells": [
    {
      "cell_type": "markdown",
      "metadata": {
        "id": "view-in-github",
        "colab_type": "text"
      },
      "source": [
        "<a href=\"https://colab.research.google.com/github/piaris/projectmanager/blob/main/1_%ED%8C%8C%EC%9D%B4%EC%8D%AC_1%EC%9D%BC%EC%B0%A8_%EC%8B%A4%EC%8A%B5.ipynb\" target=\"_parent\"><img src=\"https://colab.research.google.com/assets/colab-badge.svg\" alt=\"Open In Colab\"/></a>"
      ]
    },
    {
      "cell_type": "markdown",
      "source": [
        "# 파이썬 기초 프로그래밍 1일차 실습"
      ],
      "metadata": {
        "id": "GbkrMyjKeVRc"
      }
    },
    {
      "cell_type": "markdown",
      "source": [
        "## 1.코랩에서 파이썬 사용하기\n",
        "\n"
      ],
      "metadata": {
        "id": "iUeTBjdjep7b"
      }
    },
    {
      "cell_type": "markdown",
      "source": [
        "### 2.파이썬 실습 1일차"
      ],
      "metadata": {
        "id": "qBCaAcR1gale"
      }
    },
    {
      "cell_type": "markdown",
      "source": [
        "#### 2-1.시작"
      ],
      "metadata": {
        "id": "GDK2tkXZgcV6"
      }
    },
    {
      "cell_type": "code",
      "execution_count": null,
      "metadata": {
        "colab": {
          "base_uri": "https://localhost:8080/",
          "height": 35
        },
        "id": "tKA_o6Vrdu7c",
        "outputId": "a06bc2c0-b4f1-42e2-a0f5-b011c3f16c77"
      },
      "outputs": [
        {
          "output_type": "execute_result",
          "data": {
            "text/plain": [
              "'3.10.12 (main, Jun 11 2023, 05:26:28) [GCC 11.4.0]'"
            ],
            "application/vnd.google.colaboratory.intrinsic+json": {
              "type": "string"
            }
          },
          "metadata": {},
          "execution_count": 2
        }
      ],
      "source": [
        "import sys\n",
        "\n",
        "sys.version"
      ]
    },
    {
      "cell_type": "markdown",
      "source": [
        "간단 계산기 프로그램 작성하기\n",
        "**굵은 글씨**\n"
      ],
      "metadata": {
        "id": "izJrcQ_CfML-"
      }
    },
    {
      "cell_type": "code",
      "source": [
        "a = 100\n",
        "b = 50\n",
        "print('덧셈:', a + b)\n",
        "print('뺄셈:', a - b)\n",
        "print('곱셈:', a * b)\n",
        "print('나눗셈:', a / b)"
      ],
      "metadata": {
        "colab": {
          "base_uri": "https://localhost:8080/"
        },
        "id": "3OmkNAEYe4uI",
        "outputId": "072111a1-66eb-4812-a1e4-b088da4f3c05"
      },
      "execution_count": null,
      "outputs": [
        {
          "output_type": "stream",
          "name": "stdout",
          "text": [
            "덧셈: 150\n",
            "뺄셈: 50\n",
            "곱셈: 5000\n",
            "나눗셈: 2.0\n"
          ]
        }
      ]
    },
    {
      "cell_type": "code",
      "source": [],
      "metadata": {
        "id": "qjswTWMffuhY"
      },
      "execution_count": null,
      "outputs": []
    }
  ]
}